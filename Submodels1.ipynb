{
 "cells": [
  {
   "cell_type": "code",
   "execution_count": 1,
   "metadata": {},
   "outputs": [],
   "source": [
    "#Basic imports\n",
    "import numpy as np\n",
    "import pandas as pd\n",
    "from sklearn.preprocessing import StandardScaler\n",
    "from sklearn.metrics import mean_absolute_error\n",
    "from sklearn.model_selection import train_test_split, KFold, GridSearchCV, RepeatedKFold\n",
    "from sklearn.ensemble import RandomForestRegressor\n",
    "from sklearn.linear_model import ElasticNet\n",
    "from sklearn.kernel_ridge import KernelRidge\n",
    "from sklearn.cluster import KMeans\n",
    "from sklearn import metrics\n",
    "from yellowbrick.cluster import KElbowVisualizer\n",
    "import matplotlib.pyplot as plt\n",
    "import seaborn as sns"
   ]
  },
  {
   "cell_type": "code",
   "execution_count": 2,
   "metadata": {},
   "outputs": [],
   "source": [
    "# Import data\n",
    "df = pd.read_excel('data.xlsx', 'Timepoint 1', header=1)"
   ]
  },
  {
   "cell_type": "code",
   "execution_count": 3,
   "metadata": {},
   "outputs": [],
   "source": [
    "def clean_data1(df):\n",
    "    X = df.copy()\n",
    "    # Remove columns with only zeros\n",
    "    X = X.loc[:, (X != 0).any(axis=0)]\n",
    "    \n",
    "    # Replace zeros by nan\n",
    "    X.replace(0, np.nan, inplace=True)\n",
    "    \n",
    "    # Replace nan values by mean of column\n",
    "    X = X.fillna(X.mean())\n",
    "                     \n",
    "    # Replace Sex labels by values\n",
    "    X['Sex'].replace({1:'Male', 2:'Female'}, inplace=True)\n",
    "    \n",
    "    # Remove useless columns\n",
    "    X = X.drop(['Patient ID', 'Batch Process ID'], axis=1)\n",
    "    \n",
    "    # Split Sex in Sex_Female and Sex_Male\n",
    "    X = pd.get_dummies(X)\n",
    "    \n",
    "    return X"
   ]
  },
  {
   "cell_type": "code",
   "execution_count": 4,
   "metadata": {},
   "outputs": [],
   "source": [
    "def scale_data1(df):\n",
    "    X = df.copy()\n",
    "    # Categorical values\n",
    "    cater = X[['Sex_Female','Sex_Male']]\n",
    "    # Numerical values\n",
    "    numer = X.drop(['Sex_Female', 'Sex_Male'], axis=1)\n",
    "    #Initialize our scaler\n",
    "    scaler = StandardScaler()\n",
    "    #Scale each column in numer\n",
    "    numer = pd.DataFrame(scaler.fit_transform(numer), columns=numer.columns)\n",
    "    \n",
    "    X_scaled = pd.concat([numer, cater], axis=1, join='inner')\n",
    "    return X_scaled"
   ]
  },
  {
   "cell_type": "code",
   "execution_count": 5,
   "metadata": {},
   "outputs": [],
   "source": [
    "X = clean_data1(df)\n",
    "y = X['Age']\n",
    "X = X.drop(['Age'], axis=1)\n",
    "X_scaled = scale_data1(X)"
   ]
  },
  {
   "cell_type": "code",
   "execution_count": 6,
   "metadata": {},
   "outputs": [
    {
     "name": "stdout",
     "output_type": "stream",
     "text": [
      "0      0.362989\n",
      "1     -1.784112\n",
      "2     -0.079246\n",
      "3     -1.747616\n",
      "4      2.852872\n",
      "         ...   \n",
      "128    1.113246\n",
      "129    1.232042\n",
      "130    0.979995\n",
      "131   -0.487266\n",
      "132   -0.996849\n",
      "Name: [norm] 4th ventricle total volume, Length: 133, dtype: float64\n"
     ]
    }
   ],
   "source": [
    "print(X_scaled.iloc[:,2])"
   ]
  },
  {
   "cell_type": "code",
   "execution_count": 7,
   "metadata": {},
   "outputs": [],
   "source": [
    "#Split the data into train and test set: \n",
    "x_train, x_test, y_train, y_test = train_test_split(X_scaled, y, test_size=0.3, random_state=42) "
   ]
  },
  {
   "cell_type": "markdown",
   "metadata": {},
   "source": [
    "# Gaussian Mixture Model: "
   ]
  },
  {
   "cell_type": "markdown",
   "metadata": {},
   "source": [
    "Find the optimal number of clusters. "
   ]
  },
  {
   "cell_type": "code",
   "execution_count": 10,
   "metadata": {},
   "outputs": [
    {
     "data": {
      "image/png": "[encoded data removed]",
      "text/plain": [
       "<Figure size 576x396 with 1 Axes>"
      ]
     },
     "metadata": {},
     "output_type": "display_data"
    }
   ],
   "source": [
    "from sklearn.mixture import GaussianMixture\n",
    "gmm = GaussianMixture(n_components=3).fit(x_train)\n",
    "clusters = gmm.predict(x_train)\n",
    "score = gmm.score(x_train)\n",
    "\n",
    "plt.scatter(x_train.iloc[:, 0], x_train.iloc[:, 1], c=clusters, cmap='viridis')\n",
    "plt.show()"
   ]
  },
  {
   "cell_type": "code",
   "execution_count": 11,
   "metadata": {},
   "outputs": [],
   "source": [
    "def SelBest(arr:list, X:int)->list:\n",
    "    '''\n",
    "    returns the set of X configurations with shorter distance\n",
    "    '''\n",
    "    dx=np.argsort(arr)[:X]\n",
    "    return arr[dx]"
   ]
  },
  {
   "cell_type": "code",
   "execution_count": 12,
   "metadata": {},
   "outputs": [],
   "source": [
    "#Compute silhouette score, which checks how much the clusters are compact and well separated.\n",
    "#The closer to 1, the better.\n",
    "n_clusters=np.arange(2, 8)\n",
    "sils=[]\n",
    "sils_err=[]\n",
    "iterations=20\n",
    "for n in n_clusters:\n",
    "    tmp_sil=[]\n",
    "    for _ in range(iterations):\n",
    "        gmm=GaussianMixture(n, n_init=2).fit(x_train) \n",
    "        labels=gmm.predict(x_train)\n",
    "        sil=metrics.silhouette_score(x_train, labels, metric='euclidean')\n",
    "        tmp_sil.append(sil)\n",
    "    val=np.mean(SelBest(np.array(tmp_sil), int(iterations/5)))\n",
    "    err=np.std(tmp_sil)\n",
    "    sils.append(val)\n",
    "    sils_err.append(err)"
   ]
  },
  {
   "cell_type": "code",
   "execution_count": 13,
   "metadata": {},
   "outputs": [
    {
     "data": {
      "text/plain": [
       "Text(0, 0.5, 'Score')"
      ]
     },
     "execution_count": 13,
     "metadata": {},
     "output_type": "execute_result"
    },
    {
     "data": {
      "image/png": "[encoded data removed]",
      "text/plain": [
       "<Figure size 576x396 with 1 Axes>"
      ]
     },
     "metadata": {},
     "output_type": "display_data"
    }
   ],
   "source": [
    "plt.errorbar(n_clusters, sils, yerr=sils_err)\n",
    "plt.title(\"Silhouette Scores\", fontsize=20)\n",
    "plt.xticks(n_clusters)\n",
    "plt.xlabel(\"N. of clusters\")\n",
    "plt.ylabel(\"Score\")"
   ]
  },
  {
   "cell_type": "markdown",
   "metadata": {},
   "source": [
    "Number of clusters : 2"
   ]
  },
  {
   "cell_type": "code",
   "execution_count": 21,
   "metadata": {},
   "outputs": [],
   "source": [
    "# Train GMM with 2 clusters\n",
    "gmm = GaussianMixture(n_components=2).fit(x_train)\n",
    "cluster_labels = gmm.predict(x_train)\n",
    "\n",
    "clusters = gmm.fit(x_train)\n",
    "labels = gmm.predict(x_train)"
   ]
  },
  {
   "cell_type": "markdown",
   "metadata": {},
   "source": [
    "# Elastic Net Model:"
   ]
  },
  {
   "cell_type": "code",
   "execution_count": null,
   "metadata": {},
   "outputs": [],
   "source": []
  }
 ],
 "metadata": {
  "kernelspec": {
   "display_name": "Python 3",
   "language": "python",
   "name": "python3"
  },
  "language_info": {
   "codemirror_mode": {
    "name": "ipython",
    "version": 3
   },
   "file_extension": ".py",
   "mimetype": "text/x-python",
   "name": "python",
   "nbconvert_exporter": "python",
   "pygments_lexer": "ipython3",
   "version": "3.8.5"
  }
 },
 "nbformat": 4,
 "nbformat_minor": 4
}
