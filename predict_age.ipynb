{
 "cells": [
  {
   "cell_type": "code",
   "execution_count": 1,
   "metadata": {},
   "outputs": [],
   "source": [
    "import numpy as np\n",
    "import helpers as hp\n",
    "from sklearn.linear_model import LinearRegression\n",
    "from sklearn.linear_model import SGDRegressor\n",
    "from sklearn.pipeline import make_pipeline\n",
    "from sklearn.preprocessing import StandardScaler"
   ]
  },
  {
   "cell_type": "code",
   "execution_count": 2,
   "metadata": {},
   "outputs": [],
   "source": [
    "import pandas as pd\n",
    "\n",
    "#read dataset:\n",
    "df = pd.read_excel('Volumetry_Timepoint_1_2022-11-23_mlm.xlsx', sheet_name = 1)\n",
    "\n",
    "#Convert dataframe to numpy array:\n",
    "sample_data = df.values"
   ]
  },
  {
   "cell_type": "code",
   "execution_count": 14,
   "metadata": {},
   "outputs": [],
   "source": [
    "# select labels and input matrix:\n",
    "num_rows = len(df.axes[0])\n",
    "num_cols = len(df.axes[1])\n",
    "\n",
    "patient_ids = sample_data[2:num_rows,1]\n",
    "patient_sex = sample_data[2:num_rows,3]\n",
    "\n",
    "#the inputs are the volumes for each brain area:\n",
    "inputs = sample_data[1:num_rows,4:num_cols]\n",
    "inputs = np.asarray(inputs, dtype=float)\n",
    "\n",
    "#the labels correspond to the age of each patient:\n",
    "labels = sample_data[1:num_rows,2] \n",
    "labels = np.asarray(labels, dtype=float)"
   ]
  },
  {
   "cell_type": "code",
   "execution_count": 17,
   "metadata": {},
   "outputs": [
    {
     "data": {
      "text/plain": [
       "LinearRegression()"
      ]
     },
     "execution_count": 17,
     "metadata": {},
     "output_type": "execute_result"
    }
   ],
   "source": [
    "#Least squares regression which fits a linear model to minimize the residual sum of squares\n",
    "regLS = make_pipeline(StandardScaler(), LinearRegression())\n",
    "reg.fit(inputs, labels)"
   ]
  },
  {
   "cell_type": "code",
   "execution_count": 15,
   "metadata": {},
   "outputs": [
    {
     "data": {
      "text/plain": [
       "Pipeline(steps=[('standardscaler', StandardScaler()),\n",
       "                ('sgdregressor', SGDRegressor())])"
      ]
     },
     "execution_count": 15,
     "metadata": {},
     "output_type": "execute_result"
    }
   ],
   "source": [
    "#Stochastic GD:\n",
    "regSGD = make_pipeline(StandardScaler(), SGDRegressor(max_iter=1000, tol=1e-3))\n",
    "regSGD.fit(inputs, labels)"
   ]
  },
  {
   "cell_type": "code",
   "execution_count": 18,
   "metadata": {},
   "outputs": [],
   "source": [
    "#To do : cross validation -> divide into random sets to have one traning set and one test set"
   ]
  }
 ],
 "metadata": {
  "kernelspec": {
   "display_name": "Python 3",
   "language": "python",
   "name": "python3"
  },
  "language_info": {
   "codemirror_mode": {
    "name": "ipython",
    "version": 3
   },
   "file_extension": ".py",
   "mimetype": "text/x-python",
   "name": "python",
   "nbconvert_exporter": "python",
   "pygments_lexer": "ipython3",
   "version": "3.8.5"
  }
 },
 "nbformat": 4,
 "nbformat_minor": 4
}
