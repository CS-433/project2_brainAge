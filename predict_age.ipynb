{
 "cells": [
  {
   "cell_type": "code",
   "execution_count": 1,
   "metadata": {},
   "outputs": [],
   "source": [
    "import numpy as np\n",
    "import helpers as hp\n",
    "from sklearn.linear_model import LinearRegression\n",
    "from sklearn.linear_model import SGDRegressor\n",
    "from sklearn.pipeline import make_pipeline\n",
    "from sklearn.preprocessing import StandardScaler\n",
    "from sklearn.metrics import accuracy_score"
   ]
  },
  {
   "cell_type": "code",
   "execution_count": 2,
   "metadata": {},
   "outputs": [],
   "source": [
    "import pandas as pd\n",
    "\n",
    "#read dataset:\n",
    "df = pd.read_excel('Volumetry_Timepoint_1_2022-11-23_mlm.xlsx', sheet_name = 1)\n",
    "\n",
    "#Convert dataframe to numpy array:\n",
    "sample_data = df.values"
   ]
  },
  {
   "cell_type": "code",
   "execution_count": 3,
   "metadata": {},
   "outputs": [],
   "source": [
    "# select labels and input matrix:\n",
    "num_rows = len(df.axes[0])\n",
    "num_cols = len(df.axes[1])\n",
    "\n",
    "patient_ids = sample_data[2:num_rows,1]\n",
    "patient_sex = sample_data[2:num_rows,3]\n",
    "feature_ids = sample_data[0,4:num_cols]\n",
    "\n",
    "#the inputs are the volumes for each brain area:\n",
    "inputs = sample_data[1:num_rows,4:num_cols]\n",
    "inputs = np.asarray(inputs, dtype=float)\n",
    "\n",
    "#the labels correspond to the age of each patient:\n",
    "labels = sample_data[1:num_rows,2] \n",
    "labels = np.asarray(labels, dtype=float)"
   ]
  },
  {
   "cell_type": "code",
   "execution_count": 4,
   "metadata": {},
   "outputs": [
    {
     "name": "stdout",
     "output_type": "stream",
     "text": [
      "0.3796934332415149\n",
      "0.0007140706846795975\n"
     ]
    },
    {
     "name": "stderr",
     "output_type": "stream",
     "text": [
      "C:\\Users\\manon\\anaconda3\\lib\\site-packages\\numpy\\lib\\function_base.py:2559: RuntimeWarning: invalid value encountered in true_divide\n",
      "  c /= stddev[:, None]\n",
      "C:\\Users\\manon\\anaconda3\\lib\\site-packages\\numpy\\lib\\function_base.py:2560: RuntimeWarning: invalid value encountered in true_divide\n",
      "  c /= stddev[None, :]\n"
     ]
    }
   ],
   "source": [
    "#Remove features containing negative values for volume; remove features with only zeros (or mostly zeros)\n",
    "\n",
    "#Correlation between age and brain area volume for each area : \n",
    "N = len(inputs[0,:])\n",
    "corr = np.zeros((N,))\n",
    "for i in range(N):\n",
    "    corr_matrix = np.corrcoef(inputs[:,i], labels)\n",
    "    corr[i] = corr_matrix[0,1]\n",
    "\n",
    "#remove nan values from correlation matrix and keep track of the indices: \n",
    "remove_features = np.where(np.isnan(corr))\n",
    "inputs = np.delete(inputs, remove_features, axis=1)\n",
    "\n",
    "corr = corr[np.logical_not(np.isnan(corr))]\n",
    "\n",
    "#find the minimum and maximum correlation values :\n",
    "max_corr = np.max(np.abs(corr))\n",
    "min_corr = np.min(np.abs(corr))\n",
    "print(max_corr)\n",
    "print(min_corr)\n",
    "\n",
    "#select the features with the highest correlation values:\n",
    "feature_inds = np.where(np.abs(corr) >= 0.3)\n",
    "\n",
    "#create a new input matrix with only the most relevant features: we keep 16 features\n",
    "new_inputs = np.take(inputs, feature_inds[0], axis=1)\n",
    "new_inputs = np.asarray(new_inputs, dtype=float)"
   ]
  },
  {
   "cell_type": "code",
   "execution_count": 5,
   "metadata": {},
   "outputs": [],
   "source": [
    "#Shuffle data along axis 0 (shuffle the rows):\n",
    "\n",
    "np.random.seed(1)\n",
    "inds = np.random.permutation(new_inputs.shape[0])\n",
    "shuffled_inputs = new_inputs[inds,:]\n",
    "labels = labels[inds]"
   ]
  },
  {
   "cell_type": "code",
   "execution_count": 6,
   "metadata": {},
   "outputs": [],
   "source": [
    "#Split the dataset into a training set and a test set:\n",
    "y_val, y_tr, x_val, x_tr = hp.slice_data(labels, shuffled_inputs, 0.5)"
   ]
  },
  {
   "cell_type": "code",
   "execution_count": 14,
   "metadata": {},
   "outputs": [
    {
     "name": "stdout",
     "output_type": "stream",
     "text": [
      "0.12121212121212122\n"
     ]
    }
   ],
   "source": [
    "#Least squares regression which fits a linear model to minimize the residual sum of squares\n",
    "\n",
    "#with new inputs (only 16 features): \n",
    "regLS = make_pipeline(StandardScaler(), LinearRegression())\n",
    "regLS.fit(x_tr, y_tr)\n",
    "y_pred_LS = regLS.predict(x_val)\n",
    "y_pred_LS = np.rint(y_pred_LS)\n",
    "\n",
    "acc_LS = hp.accuracy(y_pred_LS, y_val)\n",
    "print(acc_LS)"
   ]
  },
  {
   "cell_type": "code",
   "execution_count": 15,
   "metadata": {},
   "outputs": [
    {
     "name": "stdout",
     "output_type": "stream",
     "text": [
      "0.10606060606060606\n"
     ]
    }
   ],
   "source": [
    "#Stochastic GD: find a linear regression model\n",
    "\n",
    "#with original inputs (all features): \n",
    "regSGD = make_pipeline(StandardScaler(), SGDRegressor(max_iter=1000, tol=1e-3))\n",
    "regSGD.fit(x_tr, y_tr)\n",
    "y_pred = regSGD.predict(x_val)\n",
    "y_pred = np.rint(y_pred)\n",
    "\n",
    "acc_SGD = hp.accuracy(y_pred, y_val)\n",
    "#acc_SGD = accuracy_score(y_pred, y_val)\n",
    "print(acc_SGD)"
   ]
  },
  {
   "cell_type": "code",
   "execution_count": 18,
   "metadata": {},
   "outputs": [],
   "source": [
    "#To do : cross validation -> divide into random sets to have one traning set and one test set"
   ]
  }
 ],
 "metadata": {
  "kernelspec": {
   "display_name": "Python 3",
   "language": "python",
   "name": "python3"
  },
  "language_info": {
   "codemirror_mode": {
    "name": "ipython",
    "version": 3
   },
   "file_extension": ".py",
   "mimetype": "text/x-python",
   "name": "python",
   "nbconvert_exporter": "python",
   "pygments_lexer": "ipython3",
   "version": "3.8.5"
  }
 },
 "nbformat": 4,
 "nbformat_minor": 4
}
