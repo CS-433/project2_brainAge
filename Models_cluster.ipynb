{
  "cells": [
    {
      "cell_type": "code",
      "execution_count": 1,
      "id": "8f33bcba",
      "metadata": {
        "id": "8f33bcba"
      },
      "outputs": [],
      "source": [
        "#Basic imports\n",
        "%matplotlib inline\n",
        "import importlib \n",
        "import numpy as np\n",
        "import pandas as pd\n",
        "from sklearn.preprocessing import StandardScaler\n",
        "from sklearn.metrics import mean_absolute_error, r2_score\n",
        "from sklearn.model_selection import train_test_split, KFold, GridSearchCV, RepeatedKFold\n",
        "from sklearn.cluster import KMeans\n",
        "from sklearn import metrics\n",
        "import matplotlib.pyplot as plt\n",
        "import seaborn as sns\n",
        "from sklearn.pipeline import Pipeline\n",
        "from sklearn.feature_selection import mutual_info_regression\n",
        "from numba import cuda\n",
        "import warnings"
      ]
    },
    {
      "cell_type": "markdown",
      "id": "46a620d1",
      "metadata": {
        "id": "46a620d1"
      },
      "source": [
        "# Data Processing"
      ]
    },
    {
      "cell_type": "code",
      "execution_count": 2,
      "id": "378a854b",
      "metadata": {
        "id": "378a854b"
      },
      "outputs": [],
      "source": [
        "# Import data\n",
        "#data = pd.read_excel('data.xlsx', 'Timepoint 1', header=1)\n",
        "data = pd.read_excel('data2.xlsx', 'Sheet1', header=0)"
      ]
    },
    {
      "cell_type": "code",
      "execution_count": 3,
      "id": "5ef5a083",
      "metadata": {
        "scrolled": false,
        "id": "5ef5a083"
      },
      "outputs": [],
      "source": [
        "data['Date of birth'] = pd.to_datetime(data['Date of birth'].astype(str), format='%d/%m/%Y')\n",
        "data['Date of MRI scan'] = pd.to_datetime(data['Date of MRI scan'].astype(str), format='%Y-%m-%d', errors='ignore')\n",
        "data['Age'] = (data['Date of MRI scan'] - data['Date of birth'])/ np.timedelta64(1, 'Y')"
      ]
    },
    {
      "cell_type": "code",
      "execution_count": 4,
      "id": "65c18ac8",
      "metadata": {
        "id": "65c18ac8"
      },
      "outputs": [],
      "source": [
        "def clean_data(df, del_col=[], mean=[], std=[]):\n",
        "    X = df.copy()\n",
        "    \n",
        "    # Remove useless columns\n",
        "    X = X.drop(['Subject ID', 'Date of birth', 'Date of MRI scan'], axis=1)\n",
        "    #X = X.drop(['Patient ID', 'Batch Process ID'], axis=1)\n",
        "    \n",
        "    # Remove columns with only zeros\n",
        "    if (len(del_col) == 0):\n",
        "        del_col = (X != 0).any(axis=0)\n",
        "    X = X.loc[:, del_col]\n",
        "    \n",
        "    # Replace zeros by nan\n",
        "    X.replace(0, np.nan, inplace=True)\n",
        "    \n",
        "    # Replace Sex labels by values\n",
        "    #X['Sex'].replace({'Male':1,'Female':2}, inplace=True)\n",
        "    \n",
        "    # Categorical values\n",
        "    cater = X[['Gender']]\n",
        "    #cater = X[['Sex']]\n",
        "    \n",
        "    # Numerical values\n",
        "    numer = X.drop(['Gender'], axis=1)\n",
        "    #numer = X.drop(['Sex'], axis=1)\n",
        "    \n",
        "    # Replace nan values by mean of column\n",
        "    if (len(mean) == 0 or len(std) == 0):\n",
        "        mean = numer.mean()\n",
        "        std = numer.std()\n",
        "        std = std.fillna( 1)\n",
        "    numer = numer.fillna(mean)\n",
        "                 \n",
        "    \n",
        "    #Scale each column in numer\n",
        "    numer = (numer - mean)/std\n",
        "    \n",
        "    new_X = pd.concat([numer, cater], axis=1, join='inner')\n",
        "    \n",
        "    return new_X, del_col, mean, std"
      ]
    },
    {
      "cell_type": "code",
      "execution_count": 5,
      "id": "1ed420e3",
      "metadata": {
        "id": "1ed420e3"
      },
      "outputs": [],
      "source": [
        "data_train, data_test, y_train, y_test = train_test_split(data.drop(['Age'], axis=1), data['Age'], test_size=0.3, random_state=2)"
      ]
    },
    {
      "cell_type": "code",
      "execution_count": 6,
      "id": "39fd4c9f",
      "metadata": {
        "id": "39fd4c9f"
      },
      "outputs": [],
      "source": [
        "x_train, del_col, mean_train, std_train = clean_data(data_train)\n",
        "x_test, _, _, _ = clean_data(data_test, del_col, mean_train, std_train)"
      ]
    },
    {
      "cell_type": "code",
      "execution_count": 7,
      "id": "35a33c34",
      "metadata": {
        "id": "35a33c34"
      },
      "outputs": [],
      "source": [
        "def predict(model, x_train, x_test):\n",
        "    predict_train = model.predict(x_train)\n",
        "    predict_test = model.predict(x_test)\n",
        "    \n",
        "    return predict_train, predict_test"
      ]
    },
    {
      "cell_type": "code",
      "execution_count": 8,
      "id": "a7de5f06",
      "metadata": {
        "id": "a7de5f06"
      },
      "outputs": [],
      "source": [
        "def make_mi_scores(X, y):\n",
        "    X = X.copy()\n",
        "    for colname in X.select_dtypes([\"object\", \"category\"]):\n",
        "        X[colname], _ = X[colname].factorize()\n",
        "    # All discrete features should now have integer dtypes\n",
        "    discrete_features = [pd.api.types.is_integer_dtype(t) for t in X.dtypes]\n",
        "    mi_scores = mutual_info_regression(X, y, discrete_features=discrete_features, random_state=0)\n",
        "    mi_scores = pd.Series(mi_scores, name=\"MI Scores\", index=X.columns)\n",
        "    mi_scores = mi_scores.sort_values(ascending=False)\n",
        "    return mi_scores"
      ]
    },
    {
      "cell_type": "code",
      "execution_count": 9,
      "id": "7bb83dcd",
      "metadata": {
        "id": "7bb83dcd"
      },
      "outputs": [],
      "source": [
        "def compute_mae(y_train, y_test, predict_train, predict_test):\n",
        "    train_mae = mean_absolute_error(y_train, predict_train)\n",
        "    test_mae = mean_absolute_error(y_test, predict_test)\n",
        "    \n",
        "    return train_mae, test_mae"
      ]
    },
    {
      "cell_type": "code",
      "execution_count": 10,
      "id": "d2a56edd",
      "metadata": {
        "id": "d2a56edd"
      },
      "outputs": [],
      "source": [
        "def compute_r2(y_train, y_test, predict_train, predict_test):\n",
        "    train_r2 = r2_score(y_train, predict_train)\n",
        "    test_r2 = r2_score(y_test, predict_test)\n",
        "    \n",
        "    return train_r2, test_r2"
      ]
    },
    {
      "cell_type": "code",
      "execution_count": 11,
      "id": "09e110a8",
      "metadata": {
        "id": "09e110a8"
      },
      "outputs": [],
      "source": [
        "def plot_results(x_train, x_test, predict_train, predict_test):\n",
        "    fig, (ax1, ax2) = plt.subplots(1, 2)\n",
        "    ax1.set_xlabel('True Age', fontsize = 15)\n",
        "    ax1.set_ylabel('Predicted Age', fontsize = 15)\n",
        "    ax1.set_title('Train', fontsize = 20)\n",
        "    ax2.set_xlabel('True Age', fontsize = 15)\n",
        "    ax2.set_ylabel('Predicted Age', fontsize = 15)\n",
        "    ax2.set_title('Test', fontsize = 20)\n",
        "\n",
        "    targets = [0, 1, 2]\n",
        "    colors = ['r', 'g', 'b']\n",
        "    for target, color in zip(targets, colors):\n",
        "        idx_train = (x_train['Cluster'] == target).to_numpy()\n",
        "        idx_test = (x_test['Cluster'] == target).to_numpy()\n",
        "        ax1.scatter(y_train[idx_train],\n",
        "                    predict_train[idx_train],\n",
        "                   c = color, \n",
        "                   s = 50)\n",
        "        ax2.scatter(y_test[idx_test],\n",
        "                    predict_test[idx_test],\n",
        "                   c = color, \n",
        "                   s = 50)\n",
        "    ax1.legend(['Cluster 0', 'Cluster 1', 'Cluster 2'])\n",
        "    ax1.grid()\n",
        "    ax2.legend(['Cluster 0', 'Cluster 1', 'Cluster 2'])\n",
        "    ax2.grid()\n",
        "\n",
        "    p1 = max(max(predict_train), max(np.array(y_train)))\n",
        "    p2 = min(min(predict_train), min(np.array(y_train)))\n",
        "    ax1.plot([p1, p2], [p1, p2], 'b-')\n",
        "    ax2.plot([p1, p2], [p1, p2], 'b-')"
      ]
    },
    {
      "cell_type": "code",
      "execution_count": 12,
      "id": "b2d92805",
      "metadata": {
        "colab": {
          "base_uri": "https://localhost:8080/",
          "height": 485
        },
        "id": "b2d92805",
        "outputId": "02943780-9750-44b1-aee5-aec36eb73254"
      },
      "outputs": [
        {
          "output_type": "display_data",
          "data": {
            "text/plain": [
              "<Figure size 432x288 with 2 Axes>"
            ],
            "image/png": "[encoded data removed]"
          },
          "metadata": {
            "needs_background": "light"
          }
        }
      ],
      "source": [
        "sns.heatmap(x_train.corr(), center=0);"
      ]
    },
    {
      "cell_type": "markdown",
      "id": "89e290d0",
      "metadata": {
        "id": "89e290d0"
      },
      "source": [
        "###Model"
      ]
    },
    {
      "cell_type": "code",
      "source": [
        "from sklearn import svm\n",
        "\n",
        "def svr_model (train_cluster, test_cluster, y_train_cluster, y_test_cluster): \n",
        "  cv = RepeatedKFold(n_splits=3, n_repeats=5, random_state=42)\n",
        "\n",
        "  # Construct pipeline\n",
        "  pipe_svm = Pipeline([\n",
        "              ('clf', svm.SVR())\n",
        "  ])\n",
        "  # Set grid search params\n",
        "  param_grid_svm = [\n",
        "    {'clf__C': np.logspace(-3, 3, 10), 'clf__kernel': ['linear']},\n",
        "    {'clf__C': np.logspace(-3, 3, 10), 'clf__gamma': np.logspace(-10, 0, 20), 'clf__kernel': ['rbf']},\n",
        "  ]\n",
        "  # Construct grid search\n",
        "  gs_svm = GridSearchCV(estimator=pipe_svm,\n",
        "              param_grid=param_grid_svm,\n",
        "              scoring='r2',\n",
        "              cv=cv, verbose=10, n_jobs=-1, return_train_score = True)\n",
        "  # Fit using grid search\n",
        "  gs_svm.fit(train_cluster, y_train_cluster)\n",
        "\n",
        "  # Compute predictions\n",
        "  predict_train, predict_test = predict(\n",
        "      gs_svm.best_estimator_,\n",
        "      train_cluster,\n",
        "      test_cluster\n",
        "  )\n",
        "      \n",
        "  # Compute MAE and R2 scores\n",
        "  train_mae, test_mae = compute_mae(y_train_cluster, y_test_cluster, predict_train, predict_test)\n",
        "  train_r2, test_r2 = compute_r2(y_train_cluster, y_test_cluster, predict_train, predict_test)\n",
        "\n",
        "  return gs_svm.best_score_, train_r2, test_r2, train_mae, test_mae\n"
      ],
      "metadata": {
        "id": "nDEsbztSbMhV"
      },
      "id": "nDEsbztSbMhV",
      "execution_count": 13,
      "outputs": []
    },
    {
      "cell_type": "code",
      "execution_count": 14,
      "id": "6274ae11",
      "metadata": {
        "id": "6274ae11"
      },
      "outputs": [],
      "source": [
        "from sklearn.linear_model import ElasticNet\n",
        "\n",
        "def elastic_model (train_cluster, test_cluster, y_train_cluster, y_test_cluster): \n",
        "  cv = RepeatedKFold(n_splits=3, n_repeats=5, random_state=42)\n",
        "\n",
        "  # Construct pipeline\n",
        "  pipe_el = Pipeline([\n",
        "              ('clf', ElasticNet())\n",
        "  ])\n",
        "  # Set grid search params\n",
        "  elastic_param_grid = {\n",
        "      'clf__alpha': np.logspace(-10,7,25),\n",
        "      'clf__l1_ratio': np.append(np.logspace(-10,0,20), 0)\n",
        "  }\n",
        "\n",
        "  # Construct grid search\n",
        "  gs_el = GridSearchCV(estimator=pipe_el,\n",
        "              param_grid=elastic_param_grid,\n",
        "              scoring='r2',\n",
        "              n_jobs=-1,\n",
        "              cv=cv, verbose=10, return_train_score = True)\n",
        "\n",
        "  # Fit using grid search\n",
        "  gs_el.fit(train_cluster, y_train_cluster)\n",
        "\n",
        "  # Compute predictions\n",
        "  predict_train, predict_test = predict(\n",
        "      gs_el.best_estimator_,\n",
        "      train_cluster,\n",
        "      test_cluster\n",
        "  )\n",
        "      \n",
        "  # Compute MAE and R2 scores\n",
        "  train_mae, test_mae = compute_mae(y_train_cluster, y_test_cluster, predict_train, predict_test)\n",
        "  train_r2, test_r2 = compute_r2(y_train_cluster, y_test_cluster, predict_train, predict_test)\n",
        "\n",
        "  return gs_el.best_score_, train_r2, test_r2, train_mae, test_mae\n"
      ]
    },
    {
      "cell_type": "code",
      "execution_count": 15,
      "id": "fcbbfc07",
      "metadata": {
        "id": "fcbbfc07"
      },
      "outputs": [],
      "source": [
        "from sklearn.ensemble import AdaBoostRegressor\n",
        "\n",
        "def adaboost_model (train_cluster, test_cluster, y_train_cluster, y_test_cluster):\n",
        "  cv = RepeatedKFold(n_splits=3, n_repeats=5, random_state=42)\n",
        "\n",
        "  # Construct pipeline\n",
        "  pipe_ab = Pipeline([\n",
        "              ('clf', AdaBoostRegressor(random_state = 123))\n",
        "  ])\n",
        "  # Set grid search params\n",
        "  adaboost_param_grid = {\n",
        "      'clf__n_estimators': np.arange(1, 200, 20),\n",
        "      'clf__learning_rate': [1.0, 0.5, 0.1]\n",
        "  }\n",
        "\n",
        "  # Construct grid search\n",
        "  gs_ab = GridSearchCV(estimator=pipe_ab,\n",
        "              param_grid=adaboost_param_grid,\n",
        "              scoring='r2',\n",
        "              n_jobs=-1,\n",
        "              cv=cv, verbose=10, return_train_score = True)\n",
        "\n",
        "  # Fit using grid search\n",
        "  gs_ab.fit(train_cluster, y_train_cluster)\n",
        "\n",
        "  # Compute predictions\n",
        "  predict_train, predict_test = predict(\n",
        "      gs_ab.best_estimator_,\n",
        "      train_cluster,\n",
        "      test_cluster\n",
        "  )\n",
        "      \n",
        "  # Compute MAE and R2 scores\n",
        "  train_mae, test_mae = compute_mae(y_train_cluster, y_test_cluster, predict_train, predict_test)\n",
        "  train_r2, test_r2 = compute_r2(y_train_cluster, y_test_cluster, predict_train, predict_test)\n",
        "\n",
        "  return gs_ab.best_score_, train_r2, test_r2, train_mae, test_mae\n"
      ]
    },
    {
      "cell_type": "code",
      "execution_count": 16,
      "id": "59bee1b9",
      "metadata": {
        "id": "59bee1b9"
      },
      "outputs": [],
      "source": [
        "# Long time to run !!\n",
        "\n",
        "\n",
        "# imports\n",
        "from sklearn.ensemble import RandomForestRegressor\n",
        "\n",
        "def random_forest_model (train_cluster, test_cluster, y_train_cluster, y_test_cluster):\n",
        "  cv = RepeatedKFold(n_splits=3, n_repeats=5, random_state=42)\n",
        "\n",
        "  # Construct pipeline\n",
        "  pipe_rf = Pipeline([\n",
        "              ('clf', RandomForestRegressor())\n",
        "  ])\n",
        "  # Set grid search params\n",
        "  param_grid_forest = [ \n",
        "    {'clf__n_estimators': np.arange(10, 100, 20),\n",
        "    'clf__max_depth': np.arange(1, 20)\n",
        "    }\n",
        "  ]\n",
        "  # Construct grid search\n",
        "  gs_rf = GridSearchCV(estimator=pipe_rf,\n",
        "              param_grid=param_grid_forest,\n",
        "              scoring='r2',\n",
        "              n_jobs=-1,\n",
        "              cv=cv, verbose=10, return_train_score = True)\n",
        "\n",
        "  # Fit using grid search\n",
        "  gs_rf.fit(train_cluster, y_train_cluster)\n",
        "\n",
        "  # Compute predictions\n",
        "  predict_train, predict_test = predict(\n",
        "      gs_rf.best_estimator_,\n",
        "      train_cluster,\n",
        "      test_cluster\n",
        "  )\n",
        "      \n",
        "  # Compute MAE and R2 scores\n",
        "  train_mae, test_mae = compute_mae(y_train_cluster, y_test_cluster, predict_train, predict_test)\n",
        "  train_r2, test_r2 = compute_r2(y_train_cluster, y_test_cluster, predict_train, predict_test)\n",
        "\n",
        "  return gs_rf.best_score_, train_r2, test_r2, train_mae, test_mae\n"
      ]
    },
    {
      "cell_type": "code",
      "execution_count": 17,
      "id": "de0d4a60",
      "metadata": {
        "id": "de0d4a60"
      },
      "outputs": [],
      "source": [
        "# imports\n",
        "from sklearn.neighbors import KNeighborsRegressor\n",
        "\n",
        "def knn_model (train_cluster, test_cluster, y_train_cluster, y_test_cluster):\n",
        "  cv = RepeatedKFold(n_splits=3, n_repeats=5, random_state=42)\n",
        "\n",
        "  # Construct pipeline\n",
        "  pipe_knn = Pipeline([\n",
        "              ('clf', KNeighborsRegressor())\n",
        "  ])\n",
        "  # Set grid search params\n",
        "  param_grid_knn = [ \n",
        "    {\n",
        "        'clf__n_neighbors': np.arange(1, 20)\n",
        "    }\n",
        "  ]\n",
        "  # Construct grid search\n",
        "  gs_knn = GridSearchCV(estimator=pipe_knn,\n",
        "              param_grid=param_grid_knn,\n",
        "              scoring='r2',\n",
        "              n_jobs=-1,\n",
        "              cv=cv, verbose=10, return_train_score = True)\n",
        "\n",
        "  # Fit using grid search\n",
        "  gs_knn.fit(train_cluster, y_train_cluster)\n",
        "\n",
        "  # Compute predictions\n",
        "  predict_train, predict_test = predict(\n",
        "      gs_knn.best_estimator_,\n",
        "      train_cluster,\n",
        "      test_cluster\n",
        "  )\n",
        "      \n",
        "  # Compute MAE and R2 scores\n",
        "  train_mae, test_mae = compute_mae(y_train_cluster, y_test_cluster, predict_train, predict_test)\n",
        "  train_r2, test_r2 = compute_r2(y_train_cluster, y_test_cluster, predict_train, predict_test)\n",
        "\n",
        "  return gs_knn.best_score_, train_r2, test_r2, train_mae, test_mae"
      ]
    },
    {
      "cell_type": "markdown",
      "id": "a122fc28",
      "metadata": {
        "id": "a122fc28"
      },
      "source": [
        "# PLS"
      ]
    },
    {
      "cell_type": "code",
      "execution_count": 18,
      "id": "69ebf2f1",
      "metadata": {
        "id": "69ebf2f1"
      },
      "outputs": [],
      "source": [
        "from sklearn.cross_decomposition import PLSRegression"
      ]
    },
    {
      "cell_type": "code",
      "execution_count": 19,
      "id": "78af5de4",
      "metadata": {
        "id": "78af5de4"
      },
      "outputs": [],
      "source": [
        "# PLS Regression\n",
        "n_components = 20\n",
        "pls = PLSRegression(n_components=n_components)\n",
        "pls.fit(x_train.drop(['Gender', 'Cluster'], axis=1, errors='ignore'), y_train)\n",
        "\n",
        "new_x_train = pls.transform(x_train.drop(['Gender', 'Cluster'], axis=1, errors='ignore'))\n",
        "new_x_test = pls.transform(x_test.drop(['Gender', 'Cluster'], axis=1, errors='ignore'))\n",
        "pls_train = pd.DataFrame(data = new_x_train, columns = [\"class%02d\" %i for i in range(1,n_components+1)])\n",
        "pls_test = pd.DataFrame(data = new_x_test, columns = [\"class%02d\" %i for i in range(1,n_components+1)])"
      ]
    },
    {
      "cell_type": "markdown",
      "id": "10c12033",
      "metadata": {
        "id": "10c12033"
      },
      "source": [
        "### Standardize"
      ]
    },
    {
      "cell_type": "code",
      "execution_count": 20,
      "id": "aa167953",
      "metadata": {
        "id": "aa167953"
      },
      "outputs": [],
      "source": [
        "train_mean = np.mean(pls_train, axis=0)\n",
        "train_std = np.std(pls_test, axis=0)\n",
        "\n",
        "pls_train_scaled = (pls_train - train_mean)/train_std\n",
        "pls_test_scaled = (pls_test - train_mean)/train_std"
      ]
    },
    {
      "cell_type": "code",
      "execution_count": 21,
      "id": "5379c7f1",
      "metadata": {
        "colab": {
          "base_uri": "https://localhost:8080/",
          "height": 297
        },
        "id": "5379c7f1",
        "outputId": "820423b9-6c3e-4a9d-9073-f36d4e06a025"
      },
      "outputs": [
        {
          "output_type": "display_data",
          "data": {
            "text/plain": [
              "<Figure size 432x288 with 2 Axes>"
            ],
            "image/png": "[encoded data removed]"
          },
          "metadata": {
            "needs_background": "light"
          }
        }
      ],
      "source": [
        "sns.heatmap(pd.DataFrame(pls_train_scaled).corr(), center=0);"
      ]
    },
    {
      "cell_type": "code",
      "execution_count": 22,
      "id": "479b6c91",
      "metadata": {
        "colab": {
          "base_uri": "https://localhost:8080/",
          "height": 297
        },
        "id": "479b6c91",
        "outputId": "5a21a8d7-8408-43f6-dcb6-f03726ba6483"
      },
      "outputs": [
        {
          "output_type": "display_data",
          "data": {
            "text/plain": [
              "<Figure size 432x288 with 2 Axes>"
            ],
            "image/png": "[encoded data removed]"
          },
          "metadata": {
            "needs_background": "light"
          }
        }
      ],
      "source": [
        "sns.heatmap(pd.DataFrame(pls_test_scaled).corr(), center=0);"
      ]
    },
    {
      "cell_type": "markdown",
      "id": "83cbee66",
      "metadata": {
        "id": "83cbee66"
      },
      "source": [
        "### Clustering"
      ]
    },
    {
      "cell_type": "code",
      "execution_count": 23,
      "id": "0b8c9e79",
      "metadata": {
        "id": "0b8c9e79"
      },
      "outputs": [],
      "source": [
        "kmeanModel = KMeans(n_clusters=3).fit(pls_train_scaled.drop(['Gender', 'Cluster'], axis=1, errors='ignore'))\n",
        "\n",
        "pls_train_scaled['Cluster'] = kmeanModel.labels_\n",
        "pls_test_scaled['Cluster'] = kmeanModel.predict(pls_test_scaled.drop(['Gender', 'Cluster'], axis=1, errors='ignore'))"
      ]
    },
    {
      "cell_type": "code",
      "execution_count": 24,
      "id": "04502674",
      "metadata": {
        "colab": {
          "base_uri": "https://localhost:8080/",
          "height": 305
        },
        "id": "04502674",
        "outputId": "eee69d96-e874-4ac6-87dc-7eca829358ce"
      },
      "outputs": [
        {
          "output_type": "display_data",
          "data": {
            "text/plain": [
              "<Figure size 432x288 with 1 Axes>"
            ],
            "image/png": "[encoded data removed]"
          },
          "metadata": {
            "needs_background": "light"
          }
        }
      ],
      "source": [
        "fig, ax = plt.subplots(1, 1)\n",
        "ax.set_xlabel('Age', fontsize = 15)\n",
        "ax.set_ylabel('Cluster', fontsize = 15)\n",
        "ax.set_title('PLS Clustering', fontsize = 20)\n",
        "\n",
        "targets = [0, 1, 2]\n",
        "colors = ['r', 'g', 'b']\n",
        "for target, color in zip(targets, colors):\n",
        "    idx = (pls_train_scaled['Cluster'] == target).to_numpy()\n",
        "    ax.scatter(y_train[idx],\n",
        "            np.full(y_train[idx].shape, target),\n",
        "               c = color, \n",
        "               s = 50)\n",
        "ax.grid()"
      ]
    },
    {
      "cell_type": "markdown",
      "id": "a29bc2b4",
      "metadata": {
        "id": "a29bc2b4"
      },
      "source": [
        "### Filter MI Score"
      ]
    },
    {
      "cell_type": "code",
      "execution_count": 25,
      "id": "77655acd",
      "metadata": {
        "id": "77655acd"
      },
      "outputs": [],
      "source": [
        "mi_score_train = make_mi_scores(pls_train_scaled.drop(['Cluster'], axis=1, errors='ignore'), y_train)\n",
        "\n",
        "keep_pls = (mi_score_train[mi_score_train > 0].index.to_list())\n",
        "\n",
        "keep_pls.append('Cluster')\n",
        "\n",
        "pls_train_scaled = pls_train_scaled[keep_pls]\n",
        "pls_test_scaled = pls_test_scaled[keep_pls]"
      ]
    },
    {
      "cell_type": "markdown",
      "source": [
        "### Test for each cluster"
      ],
      "metadata": {
        "id": "bpPKw_lDlhvG"
      },
      "id": "bpPKw_lDlhvG"
    },
    {
      "cell_type": "code",
      "source": [
        "#Init DataFrame for Cluster 0\n",
        "cluster_tr = pls_train_scaled.iloc[np.where(pls_train_scaled[\"Cluster\"]==0)]\n",
        "train_cluster = cluster_tr.drop(['Cluster'], axis=1, errors='ignore')\n",
        "y_train_cluster = y_train.iloc[np.where(pls_train_scaled[\"Cluster\"]==0)]\n",
        "\n",
        "cluster_te = pls_test_scaled.iloc[np.where(pls_test_scaled[\"Cluster\"]==0)]\n",
        "test_cluster = cluster_te.drop(['Cluster'], axis=1, errors='ignore')\n",
        "y_test_cluster = y_test.iloc[np.where(pls_test_scaled[\"Cluster\"]==0)]\n",
        "\n",
        "#Create DataFrame for the result\n",
        "df_pls_0 = pd.DataFrame(columns=[\"Best score\", \"Train r2\",  \"Test r2\", \"Train mae\", \"Test mae\"])\n",
        "\n",
        "\n",
        "#Test for each model\n",
        "df_pls_0.loc[\"SVR\"] = svr_model(train_cluster, test_cluster, y_train_cluster, y_test_cluster)\n",
        "df_pls_0.loc[\"Elastic Net\"] = elastic_model(train_cluster, test_cluster, y_train_cluster, y_test_cluster)\n",
        "df_pls_0.loc[\"Adaboost\"] = adaboost_model(train_cluster, test_cluster, y_train_cluster, y_test_cluster)\n",
        "df_pls_0.loc[\"Random Forest\"] = random_forest_model(train_cluster, test_cluster, y_train_cluster, y_test_cluster)\n",
        "df_pls_0.loc[\"KNN\"] = knn_model(train_cluster, test_cluster, y_train_cluster, y_test_cluster)\n",
        "df_pls_0"
      ],
      "metadata": {
        "colab": {
          "base_uri": "https://localhost:8080/",
          "height": 348
        },
        "id": "j2xy5cTxciLZ",
        "outputId": "83fb2e65-6648-4f0f-d59d-7cb60c746c2e"
      },
      "id": "j2xy5cTxciLZ",
      "execution_count": 26,
      "outputs": [
        {
          "output_type": "stream",
          "name": "stdout",
          "text": [
            "Fitting 15 folds for each of 210 candidates, totalling 3150 fits\n",
            "Fitting 15 folds for each of 525 candidates, totalling 7875 fits\n"
          ]
        },
        {
          "output_type": "stream",
          "name": "stderr",
          "text": [
            "/usr/local/lib/python3.8/dist-packages/sklearn/linear_model/_coordinate_descent.py:647: ConvergenceWarning: Objective did not converge. You might want to increase the number of iterations, check the scale of the features or consider increasing regularisation. Duality gap: 9.967e+01, tolerance: 8.975e-02 Linear regression models with null weight for the l1 regularization term are more efficiently fitted using one of the solvers implemented in sklearn.linear_model.Ridge/RidgeCV instead.\n",
            "  model = cd_fast.enet_coordinate_descent(\n"
          ]
        },
        {
          "output_type": "stream",
          "name": "stdout",
          "text": [
            "Fitting 15 folds for each of 30 candidates, totalling 450 fits\n",
            "Fitting 15 folds for each of 95 candidates, totalling 1425 fits\n",
            "Fitting 15 folds for each of 19 candidates, totalling 285 fits\n"
          ]
        },
        {
          "output_type": "execute_result",
          "data": {
            "text/plain": [
              "               Best score  Train r2   Test r2  Train mae  Test mae\n",
              "SVR              0.495670  0.981668 -0.087882   0.268911  4.107001\n",
              "Elastic Net      0.575903  0.805604 -0.319026   1.495988  4.916170\n",
              "Adaboost         0.227057  0.926393 -0.276205   0.933817  4.474892\n",
              "Random Forest    0.231613  0.879635 -0.305741   1.116627  4.575055\n",
              "KNN              0.259000  0.574923 -0.314684   2.160242  4.649970"
            ],
            "text/html": [
              "\n",
              "  <div id=\"df-c7251f62-ea5e-400e-83c3-1ff4dfa0fcb6\">\n",
              "    <div class=\"colab-df-container\">\n",
              "      <div>\n",
              "<style scoped>\n",
              "    .dataframe tbody tr th:only-of-type {\n",
              "        vertical-align: middle;\n",
              "    }\n",
              "\n",
              "    .dataframe tbody tr th {\n",
              "        vertical-align: top;\n",
              "    }\n",
              "\n",
              "    .dataframe thead th {\n",
              "        text-align: right;\n",
              "    }\n",
              "</style>\n",
              "<table border=\"1\" class=\"dataframe\">\n",
              "  <thead>\n",
              "    <tr style=\"text-align: right;\">\n",
              "      <th></th>\n",
              "      <th>Best score</th>\n",
              "      <th>Train r2</th>\n",
              "      <th>Test r2</th>\n",
              "      <th>Train mae</th>\n",
              "      <th>Test mae</th>\n",
              "    </tr>\n",
              "  </thead>\n",
              "  <tbody>\n",
              "    <tr>\n",
              "      <th>SVR</th>\n",
              "      <td>0.495670</td>\n",
              "      <td>0.981668</td>\n",
              "      <td>-0.087882</td>\n",
              "      <td>0.268911</td>\n",
              "      <td>4.107001</td>\n",
              "    </tr>\n",
              "    <tr>\n",
              "      <th>Elastic Net</th>\n",
              "      <td>0.575903</td>\n",
              "      <td>0.805604</td>\n",
              "      <td>-0.319026</td>\n",
              "      <td>1.495988</td>\n",
              "      <td>4.916170</td>\n",
              "    </tr>\n",
              "    <tr>\n",
              "      <th>Adaboost</th>\n",
              "      <td>0.227057</td>\n",
              "      <td>0.926393</td>\n",
              "      <td>-0.276205</td>\n",
              "      <td>0.933817</td>\n",
              "      <td>4.474892</td>\n",
              "    </tr>\n",
              "    <tr>\n",
              "      <th>Random Forest</th>\n",
              "      <td>0.231613</td>\n",
              "      <td>0.879635</td>\n",
              "      <td>-0.305741</td>\n",
              "      <td>1.116627</td>\n",
              "      <td>4.575055</td>\n",
              "    </tr>\n",
              "    <tr>\n",
              "      <th>KNN</th>\n",
              "      <td>0.259000</td>\n",
              "      <td>0.574923</td>\n",
              "      <td>-0.314684</td>\n",
              "      <td>2.160242</td>\n",
              "      <td>4.649970</td>\n",
              "    </tr>\n",
              "  </tbody>\n",
              "</table>\n",
              "</div>\n",
              "      <button class=\"colab-df-convert\" onclick=\"convertToInteractive('df-c7251f62-ea5e-400e-83c3-1ff4dfa0fcb6')\"\n",
              "              title=\"Convert this dataframe to an interactive table.\"\n",
              "              style=\"display:none;\">\n",
              "        \n",
              "  <svg xmlns=\"http://www.w3.org/2000/svg\" height=\"24px\"viewBox=\"0 0 24 24\"\n",
              "       width=\"24px\">\n",
              "    <path d=\"M0 0h24v24H0V0z\" fill=\"none\"/>\n",
              "    <path d=\"M18.56 5.44l.94 2.06.94-2.06 2.06-.94-2.06-.94-.94-2.06-.94 2.06-2.06.94zm-11 1L8.5 8.5l.94-2.06 2.06-.94-2.06-.94L8.5 2.5l-.94 2.06-2.06.94zm10 10l.94 2.06.94-2.06 2.06-.94-2.06-.94-.94-2.06-.94 2.06-2.06.94z\"/><path d=\"M17.41 7.96l-1.37-1.37c-.4-.4-.92-.59-1.43-.59-.52 0-1.04.2-1.43.59L10.3 9.45l-7.72 7.72c-.78.78-.78 2.05 0 2.83L4 21.41c.39.39.9.59 1.41.59.51 0 1.02-.2 1.41-.59l7.78-7.78 2.81-2.81c.8-.78.8-2.07 0-2.86zM5.41 20L4 18.59l7.72-7.72 1.47 1.35L5.41 20z\"/>\n",
              "  </svg>\n",
              "      </button>\n",
              "      \n",
              "  <style>\n",
              "    .colab-df-container {\n",
              "      display:flex;\n",
              "      flex-wrap:wrap;\n",
              "      gap: 12px;\n",
              "    }\n",
              "\n",
              "    .colab-df-convert {\n",
              "      background-color: #E8F0FE;\n",
              "      border: none;\n",
              "      border-radius: 50%;\n",
              "      cursor: pointer;\n",
              "      display: none;\n",
              "      fill: #1967D2;\n",
              "      height: 32px;\n",
              "      padding: 0 0 0 0;\n",
              "      width: 32px;\n",
              "    }\n",
              "\n",
              "    .colab-df-convert:hover {\n",
              "      background-color: #E2EBFA;\n",
              "      box-shadow: 0px 1px 2px rgba(60, 64, 67, 0.3), 0px 1px 3px 1px rgba(60, 64, 67, 0.15);\n",
              "      fill: #174EA6;\n",
              "    }\n",
              "\n",
              "    [theme=dark] .colab-df-convert {\n",
              "      background-color: #3B4455;\n",
              "      fill: #D2E3FC;\n",
              "    }\n",
              "\n",
              "    [theme=dark] .colab-df-convert:hover {\n",
              "      background-color: #434B5C;\n",
              "      box-shadow: 0px 1px 3px 1px rgba(0, 0, 0, 0.15);\n",
              "      filter: drop-shadow(0px 1px 2px rgba(0, 0, 0, 0.3));\n",
              "      fill: #FFFFFF;\n",
              "    }\n",
              "  </style>\n",
              "\n",
              "      <script>\n",
              "        const buttonEl =\n",
              "          document.querySelector('#df-c7251f62-ea5e-400e-83c3-1ff4dfa0fcb6 button.colab-df-convert');\n",
              "        buttonEl.style.display =\n",
              "          google.colab.kernel.accessAllowed ? 'block' : 'none';\n",
              "\n",
              "        async function convertToInteractive(key) {\n",
              "          const element = document.querySelector('#df-c7251f62-ea5e-400e-83c3-1ff4dfa0fcb6');\n",
              "          const dataTable =\n",
              "            await google.colab.kernel.invokeFunction('convertToInteractive',\n",
              "                                                     [key], {});\n",
              "          if (!dataTable) return;\n",
              "\n",
              "          const docLinkHtml = 'Like what you see? Visit the ' +\n",
              "            '<a target=\"_blank\" href=https://colab.research.google.com/notebooks/data_table.ipynb>data table notebook</a>'\n",
              "            + ' to learn more about interactive tables.';\n",
              "          element.innerHTML = '';\n",
              "          dataTable['output_type'] = 'display_data';\n",
              "          await google.colab.output.renderOutput(dataTable, element);\n",
              "          const docLink = document.createElement('div');\n",
              "          docLink.innerHTML = docLinkHtml;\n",
              "          element.appendChild(docLink);\n",
              "        }\n",
              "      </script>\n",
              "    </div>\n",
              "  </div>\n",
              "  "
            ]
          },
          "metadata": {},
          "execution_count": 26
        }
      ]
    },
    {
      "cell_type": "code",
      "source": [
        "#Init DataFrame for Cluster 1\n",
        "cluster_tr = pls_train_scaled.iloc[np.where(pls_train_scaled[\"Cluster\"]==1)]\n",
        "train_cluster = cluster_tr.drop(['Cluster'], axis=1, errors='ignore')\n",
        "y_train_cluster = y_train.iloc[np.where(pls_train_scaled[\"Cluster\"]==1)]\n",
        "\n",
        "cluster_te = pls_test_scaled.iloc[np.where(pls_test_scaled[\"Cluster\"]==1)]\n",
        "test_cluster = cluster_te.drop(['Cluster'], axis=1, errors='ignore')\n",
        "y_test_cluster = y_test.iloc[np.where(pls_test_scaled[\"Cluster\"]==1)]\n",
        "\n",
        "#Create DataFrame for the result\n",
        "df_pls_1 = pd.DataFrame(columns=[\"Best score\", \"Train r2\",  \"Test r2\", \"Train mae\", \"Test mae\"])\n",
        "\n",
        "\n",
        "#Test for each model\n",
        "df_pls_1.loc[\"SVR\"] = svr_model(train_cluster, test_cluster, y_train_cluster, y_test_cluster)\n",
        "df_pls_1.loc[\"Elastic Net\"] = elastic_model(train_cluster, test_cluster, y_train_cluster, y_test_cluster)\n",
        "df_pls_1.loc[\"Adaboost\"] = adaboost_model(train_cluster, test_cluster, y_train_cluster, y_test_cluster)\n",
        "df_pls_1.loc[\"Random Forest\"] = random_forest_model(train_cluster, test_cluster, y_train_cluster, y_test_cluster)\n",
        "df_pls_1.loc[\"KNN\"] = knn_model(train_cluster, test_cluster, y_train_cluster, y_test_cluster)\n",
        "df_pls_1"
      ],
      "metadata": {
        "colab": {
          "base_uri": "https://localhost:8080/",
          "height": 348
        },
        "id": "tLBNuKYBmjO2",
        "outputId": "1b90f820-9fe4-4c33-bbe2-43bce5426593"
      },
      "id": "tLBNuKYBmjO2",
      "execution_count": 27,
      "outputs": [
        {
          "output_type": "stream",
          "name": "stdout",
          "text": [
            "Fitting 15 folds for each of 210 candidates, totalling 3150 fits\n",
            "Fitting 15 folds for each of 525 candidates, totalling 7875 fits\n"
          ]
        },
        {
          "output_type": "stream",
          "name": "stderr",
          "text": [
            "/usr/local/lib/python3.8/dist-packages/sklearn/linear_model/_coordinate_descent.py:647: ConvergenceWarning: Objective did not converge. You might want to increase the number of iterations, check the scale of the features or consider increasing regularisation. Duality gap: 8.179e+01, tolerance: 5.823e-02 Linear regression models with null weight for the l1 regularization term are more efficiently fitted using one of the solvers implemented in sklearn.linear_model.Ridge/RidgeCV instead.\n",
            "  model = cd_fast.enet_coordinate_descent(\n"
          ]
        },
        {
          "output_type": "stream",
          "name": "stdout",
          "text": [
            "Fitting 15 folds for each of 30 candidates, totalling 450 fits\n",
            "Fitting 15 folds for each of 95 candidates, totalling 1425 fits\n",
            "Fitting 15 folds for each of 19 candidates, totalling 285 fits\n"
          ]
        },
        {
          "output_type": "execute_result",
          "data": {
            "text/plain": [
              "               Best score  Train r2   Test r2  Train mae  Test mae\n",
              "SVR              0.424302  0.781374 -0.369538   1.260788  4.632630\n",
              "Elastic Net      0.404520  0.817371 -0.441615   1.368798  4.911734\n",
              "Adaboost         0.053905  0.959318 -0.097932   0.688355  3.952470\n",
              "Random Forest    0.088634  0.888750 -0.215704   1.081790  4.287989\n",
              "KNN              0.274236  0.572840 -0.561417   2.151627  5.153121"
            ],
            "text/html": [
              "\n",
              "  <div id=\"df-748c54d6-d197-4d68-b4b1-83bdc176c2f8\">\n",
              "    <div class=\"colab-df-container\">\n",
              "      <div>\n",
              "<style scoped>\n",
              "    .dataframe tbody tr th:only-of-type {\n",
              "        vertical-align: middle;\n",
              "    }\n",
              "\n",
              "    .dataframe tbody tr th {\n",
              "        vertical-align: top;\n",
              "    }\n",
              "\n",
              "    .dataframe thead th {\n",
              "        text-align: right;\n",
              "    }\n",
              "</style>\n",
              "<table border=\"1\" class=\"dataframe\">\n",
              "  <thead>\n",
              "    <tr style=\"text-align: right;\">\n",
              "      <th></th>\n",
              "      <th>Best score</th>\n",
              "      <th>Train r2</th>\n",
              "      <th>Test r2</th>\n",
              "      <th>Train mae</th>\n",
              "      <th>Test mae</th>\n",
              "    </tr>\n",
              "  </thead>\n",
              "  <tbody>\n",
              "    <tr>\n",
              "      <th>SVR</th>\n",
              "      <td>0.424302</td>\n",
              "      <td>0.781374</td>\n",
              "      <td>-0.369538</td>\n",
              "      <td>1.260788</td>\n",
              "      <td>4.632630</td>\n",
              "    </tr>\n",
              "    <tr>\n",
              "      <th>Elastic Net</th>\n",
              "      <td>0.404520</td>\n",
              "      <td>0.817371</td>\n",
              "      <td>-0.441615</td>\n",
              "      <td>1.368798</td>\n",
              "      <td>4.911734</td>\n",
              "    </tr>\n",
              "    <tr>\n",
              "      <th>Adaboost</th>\n",
              "      <td>0.053905</td>\n",
              "      <td>0.959318</td>\n",
              "      <td>-0.097932</td>\n",
              "      <td>0.688355</td>\n",
              "      <td>3.952470</td>\n",
              "    </tr>\n",
              "    <tr>\n",
              "      <th>Random Forest</th>\n",
              "      <td>0.088634</td>\n",
              "      <td>0.888750</td>\n",
              "      <td>-0.215704</td>\n",
              "      <td>1.081790</td>\n",
              "      <td>4.287989</td>\n",
              "    </tr>\n",
              "    <tr>\n",
              "      <th>KNN</th>\n",
              "      <td>0.274236</td>\n",
              "      <td>0.572840</td>\n",
              "      <td>-0.561417</td>\n",
              "      <td>2.151627</td>\n",
              "      <td>5.153121</td>\n",
              "    </tr>\n",
              "  </tbody>\n",
              "</table>\n",
              "</div>\n",
              "      <button class=\"colab-df-convert\" onclick=\"convertToInteractive('df-748c54d6-d197-4d68-b4b1-83bdc176c2f8')\"\n",
              "              title=\"Convert this dataframe to an interactive table.\"\n",
              "              style=\"display:none;\">\n",
              "        \n",
              "  <svg xmlns=\"http://www.w3.org/2000/svg\" height=\"24px\"viewBox=\"0 0 24 24\"\n",
              "       width=\"24px\">\n",
              "    <path d=\"M0 0h24v24H0V0z\" fill=\"none\"/>\n",
              "    <path d=\"M18.56 5.44l.94 2.06.94-2.06 2.06-.94-2.06-.94-.94-2.06-.94 2.06-2.06.94zm-11 1L8.5 8.5l.94-2.06 2.06-.94-2.06-.94L8.5 2.5l-.94 2.06-2.06.94zm10 10l.94 2.06.94-2.06 2.06-.94-2.06-.94-.94-2.06-.94 2.06-2.06.94z\"/><path d=\"M17.41 7.96l-1.37-1.37c-.4-.4-.92-.59-1.43-.59-.52 0-1.04.2-1.43.59L10.3 9.45l-7.72 7.72c-.78.78-.78 2.05 0 2.83L4 21.41c.39.39.9.59 1.41.59.51 0 1.02-.2 1.41-.59l7.78-7.78 2.81-2.81c.8-.78.8-2.07 0-2.86zM5.41 20L4 18.59l7.72-7.72 1.47 1.35L5.41 20z\"/>\n",
              "  </svg>\n",
              "      </button>\n",
              "      \n",
              "  <style>\n",
              "    .colab-df-container {\n",
              "      display:flex;\n",
              "      flex-wrap:wrap;\n",
              "      gap: 12px;\n",
              "    }\n",
              "\n",
              "    .colab-df-convert {\n",
              "      background-color: #E8F0FE;\n",
              "      border: none;\n",
              "      border-radius: 50%;\n",
              "      cursor: pointer;\n",
              "      display: none;\n",
              "      fill: #1967D2;\n",
              "      height: 32px;\n",
              "      padding: 0 0 0 0;\n",
              "      width: 32px;\n",
              "    }\n",
              "\n",
              "    .colab-df-convert:hover {\n",
              "      background-color: #E2EBFA;\n",
              "      box-shadow: 0px 1px 2px rgba(60, 64, 67, 0.3), 0px 1px 3px 1px rgba(60, 64, 67, 0.15);\n",
              "      fill: #174EA6;\n",
              "    }\n",
              "\n",
              "    [theme=dark] .colab-df-convert {\n",
              "      background-color: #3B4455;\n",
              "      fill: #D2E3FC;\n",
              "    }\n",
              "\n",
              "    [theme=dark] .colab-df-convert:hover {\n",
              "      background-color: #434B5C;\n",
              "      box-shadow: 0px 1px 3px 1px rgba(0, 0, 0, 0.15);\n",
              "      filter: drop-shadow(0px 1px 2px rgba(0, 0, 0, 0.3));\n",
              "      fill: #FFFFFF;\n",
              "    }\n",
              "  </style>\n",
              "\n",
              "      <script>\n",
              "        const buttonEl =\n",
              "          document.querySelector('#df-748c54d6-d197-4d68-b4b1-83bdc176c2f8 button.colab-df-convert');\n",
              "        buttonEl.style.display =\n",
              "          google.colab.kernel.accessAllowed ? 'block' : 'none';\n",
              "\n",
              "        async function convertToInteractive(key) {\n",
              "          const element = document.querySelector('#df-748c54d6-d197-4d68-b4b1-83bdc176c2f8');\n",
              "          const dataTable =\n",
              "            await google.colab.kernel.invokeFunction('convertToInteractive',\n",
              "                                                     [key], {});\n",
              "          if (!dataTable) return;\n",
              "\n",
              "          const docLinkHtml = 'Like what you see? Visit the ' +\n",
              "            '<a target=\"_blank\" href=https://colab.research.google.com/notebooks/data_table.ipynb>data table notebook</a>'\n",
              "            + ' to learn more about interactive tables.';\n",
              "          element.innerHTML = '';\n",
              "          dataTable['output_type'] = 'display_data';\n",
              "          await google.colab.output.renderOutput(dataTable, element);\n",
              "          const docLink = document.createElement('div');\n",
              "          docLink.innerHTML = docLinkHtml;\n",
              "          element.appendChild(docLink);\n",
              "        }\n",
              "      </script>\n",
              "    </div>\n",
              "  </div>\n",
              "  "
            ]
          },
          "metadata": {},
          "execution_count": 27
        }
      ]
    },
    {
      "cell_type": "code",
      "source": [
        "#Init DataFrame for Cluster 2\n",
        "cluster_tr = pls_train_scaled.iloc[np.where(pls_train_scaled[\"Cluster\"]==2)]\n",
        "train_cluster = cluster_tr.drop(['Cluster'], axis=1, errors='ignore')\n",
        "y_train_cluster = y_train.iloc[np.where(pls_train_scaled[\"Cluster\"]==2)]\n",
        "\n",
        "cluster_te = pls_test_scaled.iloc[np.where(pls_test_scaled[\"Cluster\"]==2)]\n",
        "test_cluster = cluster_te.drop(['Cluster'], axis=1, errors='ignore')\n",
        "y_test_cluster = y_test.iloc[np.where(pls_test_scaled[\"Cluster\"]==2)]\n",
        "\n",
        "#Create DataFrame for the result\n",
        "df_pls_2 = pd.DataFrame(columns=[\"Best score\", \"Train r2\",  \"Test r2\", \"Train mae\", \"Test mae\"])\n",
        "\n",
        "\n",
        "#Test for each model\n",
        "df_pls_2.loc[\"SVR\"] = svr_model(train_cluster, test_cluster, y_train_cluster, y_test_cluster)\n",
        "df_pls_2.loc[\"Elastic Net\"] = elastic_model(train_cluster, test_cluster, y_train_cluster, y_test_cluster)\n",
        "df_pls_2.loc[\"Adaboost\"] = adaboost_model(train_cluster, test_cluster, y_train_cluster, y_test_cluster)\n",
        "df_pls_2.loc[\"Random Forest\"] = random_forest_model(train_cluster, test_cluster, y_train_cluster, y_test_cluster)\n",
        "df_pls_2.loc[\"KNN\"] = knn_model(train_cluster, test_cluster, y_train_cluster, y_test_cluster)\n",
        "df_pls_2"
      ],
      "metadata": {
        "colab": {
          "base_uri": "https://localhost:8080/",
          "height": 348
        },
        "id": "XqvAwAHxmjIv",
        "outputId": "e2004672-820e-4d8a-d5d5-c881f486795c"
      },
      "id": "XqvAwAHxmjIv",
      "execution_count": 28,
      "outputs": [
        {
          "output_type": "stream",
          "name": "stdout",
          "text": [
            "Fitting 15 folds for each of 210 candidates, totalling 3150 fits\n",
            "Fitting 15 folds for each of 525 candidates, totalling 7875 fits\n"
          ]
        },
        {
          "output_type": "stream",
          "name": "stderr",
          "text": [
            "/usr/local/lib/python3.8/dist-packages/sklearn/linear_model/_coordinate_descent.py:647: ConvergenceWarning: Objective did not converge. You might want to increase the number of iterations, check the scale of the features or consider increasing regularisation. Duality gap: 1.071e+02, tolerance: 7.820e-02 Linear regression models with null weight for the l1 regularization term are more efficiently fitted using one of the solvers implemented in sklearn.linear_model.Ridge/RidgeCV instead.\n",
            "  model = cd_fast.enet_coordinate_descent(\n"
          ]
        },
        {
          "output_type": "stream",
          "name": "stdout",
          "text": [
            "Fitting 15 folds for each of 30 candidates, totalling 450 fits\n",
            "Fitting 15 folds for each of 95 candidates, totalling 1425 fits\n",
            "Fitting 15 folds for each of 19 candidates, totalling 285 fits\n"
          ]
        },
        {
          "output_type": "execute_result",
          "data": {
            "text/plain": [
              "               Best score  Train r2   Test r2  Train mae  Test mae\n",
              "SVR              0.510381  0.815217  0.009594   0.952818  3.781548\n",
              "Elastic Net      0.576836  0.757335  0.010223   1.343220  3.726502\n",
              "Adaboost         0.282045  0.895255 -0.004390   0.977932  3.875161\n",
              "Random Forest    0.269408  0.869173  0.130637   0.972898  3.697294\n",
              "KNN              0.188916  0.429992  0.108735   1.993385  3.700644"
            ],
            "text/html": [
              "\n",
              "  <div id=\"df-f2188528-518f-4d55-808f-85d996ed218b\">\n",
              "    <div class=\"colab-df-container\">\n",
              "      <div>\n",
              "<style scoped>\n",
              "    .dataframe tbody tr th:only-of-type {\n",
              "        vertical-align: middle;\n",
              "    }\n",
              "\n",
              "    .dataframe tbody tr th {\n",
              "        vertical-align: top;\n",
              "    }\n",
              "\n",
              "    .dataframe thead th {\n",
              "        text-align: right;\n",
              "    }\n",
              "</style>\n",
              "<table border=\"1\" class=\"dataframe\">\n",
              "  <thead>\n",
              "    <tr style=\"text-align: right;\">\n",
              "      <th></th>\n",
              "      <th>Best score</th>\n",
              "      <th>Train r2</th>\n",
              "      <th>Test r2</th>\n",
              "      <th>Train mae</th>\n",
              "      <th>Test mae</th>\n",
              "    </tr>\n",
              "  </thead>\n",
              "  <tbody>\n",
              "    <tr>\n",
              "      <th>SVR</th>\n",
              "      <td>0.510381</td>\n",
              "      <td>0.815217</td>\n",
              "      <td>0.009594</td>\n",
              "      <td>0.952818</td>\n",
              "      <td>3.781548</td>\n",
              "    </tr>\n",
              "    <tr>\n",
              "      <th>Elastic Net</th>\n",
              "      <td>0.576836</td>\n",
              "      <td>0.757335</td>\n",
              "      <td>0.010223</td>\n",
              "      <td>1.343220</td>\n",
              "      <td>3.726502</td>\n",
              "    </tr>\n",
              "    <tr>\n",
              "      <th>Adaboost</th>\n",
              "      <td>0.282045</td>\n",
              "      <td>0.895255</td>\n",
              "      <td>-0.004390</td>\n",
              "      <td>0.977932</td>\n",
              "      <td>3.875161</td>\n",
              "    </tr>\n",
              "    <tr>\n",
              "      <th>Random Forest</th>\n",
              "      <td>0.269408</td>\n",
              "      <td>0.869173</td>\n",
              "      <td>0.130637</td>\n",
              "      <td>0.972898</td>\n",
              "      <td>3.697294</td>\n",
              "    </tr>\n",
              "    <tr>\n",
              "      <th>KNN</th>\n",
              "      <td>0.188916</td>\n",
              "      <td>0.429992</td>\n",
              "      <td>0.108735</td>\n",
              "      <td>1.993385</td>\n",
              "      <td>3.700644</td>\n",
              "    </tr>\n",
              "  </tbody>\n",
              "</table>\n",
              "</div>\n",
              "      <button class=\"colab-df-convert\" onclick=\"convertToInteractive('df-f2188528-518f-4d55-808f-85d996ed218b')\"\n",
              "              title=\"Convert this dataframe to an interactive table.\"\n",
              "              style=\"display:none;\">\n",
              "        \n",
              "  <svg xmlns=\"http://www.w3.org/2000/svg\" height=\"24px\"viewBox=\"0 0 24 24\"\n",
              "       width=\"24px\">\n",
              "    <path d=\"M0 0h24v24H0V0z\" fill=\"none\"/>\n",
              "    <path d=\"M18.56 5.44l.94 2.06.94-2.06 2.06-.94-2.06-.94-.94-2.06-.94 2.06-2.06.94zm-11 1L8.5 8.5l.94-2.06 2.06-.94-2.06-.94L8.5 2.5l-.94 2.06-2.06.94zm10 10l.94 2.06.94-2.06 2.06-.94-2.06-.94-.94-2.06-.94 2.06-2.06.94z\"/><path d=\"M17.41 7.96l-1.37-1.37c-.4-.4-.92-.59-1.43-.59-.52 0-1.04.2-1.43.59L10.3 9.45l-7.72 7.72c-.78.78-.78 2.05 0 2.83L4 21.41c.39.39.9.59 1.41.59.51 0 1.02-.2 1.41-.59l7.78-7.78 2.81-2.81c.8-.78.8-2.07 0-2.86zM5.41 20L4 18.59l7.72-7.72 1.47 1.35L5.41 20z\"/>\n",
              "  </svg>\n",
              "      </button>\n",
              "      \n",
              "  <style>\n",
              "    .colab-df-container {\n",
              "      display:flex;\n",
              "      flex-wrap:wrap;\n",
              "      gap: 12px;\n",
              "    }\n",
              "\n",
              "    .colab-df-convert {\n",
              "      background-color: #E8F0FE;\n",
              "      border: none;\n",
              "      border-radius: 50%;\n",
              "      cursor: pointer;\n",
              "      display: none;\n",
              "      fill: #1967D2;\n",
              "      height: 32px;\n",
              "      padding: 0 0 0 0;\n",
              "      width: 32px;\n",
              "    }\n",
              "\n",
              "    .colab-df-convert:hover {\n",
              "      background-color: #E2EBFA;\n",
              "      box-shadow: 0px 1px 2px rgba(60, 64, 67, 0.3), 0px 1px 3px 1px rgba(60, 64, 67, 0.15);\n",
              "      fill: #174EA6;\n",
              "    }\n",
              "\n",
              "    [theme=dark] .colab-df-convert {\n",
              "      background-color: #3B4455;\n",
              "      fill: #D2E3FC;\n",
              "    }\n",
              "\n",
              "    [theme=dark] .colab-df-convert:hover {\n",
              "      background-color: #434B5C;\n",
              "      box-shadow: 0px 1px 3px 1px rgba(0, 0, 0, 0.15);\n",
              "      filter: drop-shadow(0px 1px 2px rgba(0, 0, 0, 0.3));\n",
              "      fill: #FFFFFF;\n",
              "    }\n",
              "  </style>\n",
              "\n",
              "      <script>\n",
              "        const buttonEl =\n",
              "          document.querySelector('#df-f2188528-518f-4d55-808f-85d996ed218b button.colab-df-convert');\n",
              "        buttonEl.style.display =\n",
              "          google.colab.kernel.accessAllowed ? 'block' : 'none';\n",
              "\n",
              "        async function convertToInteractive(key) {\n",
              "          const element = document.querySelector('#df-f2188528-518f-4d55-808f-85d996ed218b');\n",
              "          const dataTable =\n",
              "            await google.colab.kernel.invokeFunction('convertToInteractive',\n",
              "                                                     [key], {});\n",
              "          if (!dataTable) return;\n",
              "\n",
              "          const docLinkHtml = 'Like what you see? Visit the ' +\n",
              "            '<a target=\"_blank\" href=https://colab.research.google.com/notebooks/data_table.ipynb>data table notebook</a>'\n",
              "            + ' to learn more about interactive tables.';\n",
              "          element.innerHTML = '';\n",
              "          dataTable['output_type'] = 'display_data';\n",
              "          await google.colab.output.renderOutput(dataTable, element);\n",
              "          const docLink = document.createElement('div');\n",
              "          docLink.innerHTML = docLinkHtml;\n",
              "          element.appendChild(docLink);\n",
              "        }\n",
              "      </script>\n",
              "    </div>\n",
              "  </div>\n",
              "  "
            ]
          },
          "metadata": {},
          "execution_count": 28
        }
      ]
    },
    {
      "cell_type": "markdown",
      "id": "8ab0295f",
      "metadata": {
        "id": "8ab0295f"
      },
      "source": [
        "# PCA"
      ]
    },
    {
      "cell_type": "code",
      "execution_count": 29,
      "id": "b19f1a4c",
      "metadata": {
        "id": "b19f1a4c"
      },
      "outputs": [],
      "source": [
        "from sklearn.decomposition import PCA"
      ]
    },
    {
      "cell_type": "code",
      "execution_count": 30,
      "id": "0a1c0ac9",
      "metadata": {
        "colab": {
          "base_uri": "https://localhost:8080/",
          "height": 404
        },
        "id": "0a1c0ac9",
        "outputId": "9ce73e8b-be62-48cf-e64d-e8ef56b641d4"
      },
      "outputs": [
        {
          "output_type": "display_data",
          "data": {
            "text/plain": [
              "<Figure size 1000x400 with 2 Axes>"
            ],
            "image/png": "[encoded data removed]"
          },
          "metadata": {
            "needs_background": "light"
          }
        }
      ],
      "source": [
        "pca = PCA(n_components=20)\n",
        "pc = pca.fit_transform(x_train.drop(['Gender', 'Cluster'], axis=1, errors='ignore'))\n",
        "pc_train = pd.DataFrame(data = pc, columns = [\"PC%02d\" %i for i in range(1,pca.n_components_+1)])\n",
        "pc_test = pca.transform(x_test.drop(['Gender', 'Cluster'], axis=1, errors='ignore'))\n",
        "pc_test = pd.DataFrame(data = pc_test, columns = [\"PC%02d\" %i for i in range(1,pca.n_components_+1)])\n",
        "\n",
        "# Create figure\n",
        "fig, axs = plt.subplots(1, 2)\n",
        "n = pca.n_components_\n",
        "grid = np.arange(1, n + 1)\n",
        "\n",
        "# Explained variance\n",
        "evr = pca.explained_variance_ratio_\n",
        "axs[0].bar(grid, evr)\n",
        "axs[0].set(\n",
        "    xlabel=\"Component\", title=f\"% Explained Variance\", ylim=(0.0, 1.0)\n",
        ")\n",
        "\n",
        "# Cumulative Variance\n",
        "cv = np.cumsum(evr)\n",
        "axs[1].plot(np.r_[0, grid], np.r_[0, cv], \"o-\")\n",
        "axs[1].set(\n",
        "    xlabel=\"Component\", title=f\"% Cumulative Variance\", ylim=(0.0, 1.0)\n",
        ")\n",
        "\n",
        "# Set up figure\n",
        "fig.set(figwidth=10, dpi=100)\n",
        "fig.show()"
      ]
    },
    {
      "cell_type": "markdown",
      "id": "97e87996",
      "metadata": {
        "id": "97e87996"
      },
      "source": [
        "### Standardize"
      ]
    },
    {
      "cell_type": "code",
      "execution_count": 31,
      "id": "917b8131",
      "metadata": {
        "id": "917b8131"
      },
      "outputs": [],
      "source": [
        "train_mean = np.mean(pc_train, axis=0)\n",
        "train_std = np.std(pc_train, axis=0)\n",
        "\n",
        "pc_train_scaled = (pc_train - train_mean)/train_std\n",
        "pc_test_scaled = (pc_test - train_mean)/train_std"
      ]
    },
    {
      "cell_type": "code",
      "execution_count": 32,
      "id": "f9f806ce",
      "metadata": {
        "scrolled": false,
        "colab": {
          "base_uri": "https://localhost:8080/",
          "height": 285
        },
        "id": "f9f806ce",
        "outputId": "b5a0f3e4-cf0a-425a-d3c5-94941c94ecdb"
      },
      "outputs": [
        {
          "output_type": "display_data",
          "data": {
            "text/plain": [
              "<Figure size 432x288 with 2 Axes>"
            ],
            "image/png": "[encoded data removed]"
          },
          "metadata": {
            "needs_background": "light"
          }
        }
      ],
      "source": [
        "sns.heatmap(pd.DataFrame(pc_train_scaled).corr(), center=0);"
      ]
    },
    {
      "cell_type": "code",
      "execution_count": 33,
      "id": "4c71cb7c",
      "metadata": {
        "colab": {
          "base_uri": "https://localhost:8080/",
          "height": 285
        },
        "id": "4c71cb7c",
        "outputId": "9f62be5b-ac80-428c-c6a5-fababc24f45f"
      },
      "outputs": [
        {
          "output_type": "display_data",
          "data": {
            "text/plain": [
              "<Figure size 432x288 with 2 Axes>"
            ],
            "image/png": "[encoded data removed]"
          },
          "metadata": {
            "needs_background": "light"
          }
        }
      ],
      "source": [
        "sns.heatmap(pd.DataFrame(pc_test_scaled).corr(), center=0);"
      ]
    },
    {
      "cell_type": "markdown",
      "id": "3eb3bd84",
      "metadata": {
        "id": "3eb3bd84"
      },
      "source": [
        "### Clustering"
      ]
    },
    {
      "cell_type": "code",
      "execution_count": 34,
      "id": "f75a8edf",
      "metadata": {
        "id": "f75a8edf"
      },
      "outputs": [],
      "source": [
        "kmeanModel = KMeans(n_clusters=3).fit(pc_train_scaled.drop(['Gender', 'Cluster'], axis=1, errors='ignore'))\n",
        "\n",
        "pc_train_scaled['Cluster'] = kmeanModel.labels_\n",
        "pc_test_scaled['Cluster'] = kmeanModel.predict(pc_test_scaled.drop(['Gender', 'Cluster'], axis=1, errors='ignore'))"
      ]
    },
    {
      "cell_type": "code",
      "execution_count": 35,
      "id": "855d7314",
      "metadata": {
        "colab": {
          "base_uri": "https://localhost:8080/",
          "height": 305
        },
        "id": "855d7314",
        "outputId": "8ca87f50-da52-4bef-95d7-77a0f95b2668"
      },
      "outputs": [
        {
          "output_type": "display_data",
          "data": {
            "text/plain": [
              "<Figure size 432x288 with 1 Axes>"
            ],
            "image/png": "[encoded data removed]"
          },
          "metadata": {
            "needs_background": "light"
          }
        }
      ],
      "source": [
        "fig, ax = plt.subplots(1, 1)\n",
        "ax.set_xlabel('Age', fontsize = 15)\n",
        "ax.set_ylabel('Cluster', fontsize = 15)\n",
        "ax.set_title('PCA Clustering', fontsize = 20)\n",
        "\n",
        "targets = [0, 1, 2]\n",
        "colors = ['r', 'g', 'b']\n",
        "for target, color in zip(targets, colors):\n",
        "    idx = (pc_train_scaled['Cluster'] == target).to_numpy()\n",
        "    ax.scatter(y_train[idx],\n",
        "            np.full(y_train[idx].shape, target),\n",
        "               c = color, \n",
        "               s = 50)\n",
        "ax.grid()"
      ]
    },
    {
      "cell_type": "markdown",
      "id": "7d342f21",
      "metadata": {
        "id": "7d342f21"
      },
      "source": [
        "### Filter MI Score"
      ]
    },
    {
      "cell_type": "markdown",
      "id": "9b984665",
      "metadata": {
        "id": "9b984665"
      },
      "source": [
        "After testing, keeping only PC with MI Score > 0 didn't improve the results (slightly worse in fact)"
      ]
    },
    {
      "cell_type": "markdown",
      "id": "96bbd2cd",
      "metadata": {
        "id": "96bbd2cd"
      },
      "source": [
        "### Test Model for each cluster"
      ]
    },
    {
      "cell_type": "code",
      "source": [
        "#Init DataFrame for Cluster 0\n",
        "cluster_tr = pc_train_scaled.iloc[np.where(pc_train_scaled[\"Cluster\"]==0)]\n",
        "train_cluster = cluster_tr.drop(['Cluster'], axis=1, errors='ignore')\n",
        "y_train_cluster = y_train.iloc[np.where(pc_train_scaled[\"Cluster\"]==0)]\n",
        "\n",
        "cluster_te = pc_test_scaled.iloc[np.where(pc_test_scaled[\"Cluster\"]==0)]\n",
        "test_cluster = cluster_te.drop(['Cluster'], axis=1, errors='ignore')\n",
        "y_test_cluster = y_test.iloc[np.where(pc_test_scaled[\"Cluster\"]==0)]\n",
        "\n",
        "#Create DataFrame for the result\n",
        "df_pca_0 = pd.DataFrame(columns=[\"Best score\", \"Train r2\",  \"Test r2\", \"Train mae\", \"Test mae\"])\n",
        "\n",
        "\n",
        "#Test for each model\n",
        "df_pca_0.loc[\"SVR\"] = svr_model(train_cluster, test_cluster, y_train_cluster, y_test_cluster)\n",
        "df_pca_0.loc[\"Elastic Net\"] = elastic_model(train_cluster, test_cluster, y_train_cluster, y_test_cluster)\n",
        "df_pca_0.loc[\"Adaboost\"] = adaboost_model(train_cluster, test_cluster, y_train_cluster, y_test_cluster)\n",
        "df_pca_0.loc[\"Random Forest\"] = random_forest_model(train_cluster, test_cluster, y_train_cluster, y_test_cluster)\n",
        "df_pca_0.loc[\"KNN\"] = knn_model(train_cluster, test_cluster, y_train_cluster, y_test_cluster)\n",
        "df_pca_0"
      ],
      "metadata": {
        "colab": {
          "base_uri": "https://localhost:8080/",
          "height": 348
        },
        "id": "V4RDOAAqnvoc",
        "outputId": "d4172024-c75a-4693-ec7f-20b0896ab2d6"
      },
      "id": "V4RDOAAqnvoc",
      "execution_count": 37,
      "outputs": [
        {
          "output_type": "stream",
          "name": "stdout",
          "text": [
            "Fitting 15 folds for each of 210 candidates, totalling 3150 fits\n",
            "Fitting 15 folds for each of 525 candidates, totalling 7875 fits\n"
          ]
        },
        {
          "output_type": "stream",
          "name": "stderr",
          "text": [
            "/usr/local/lib/python3.8/dist-packages/sklearn/linear_model/_coordinate_descent.py:647: ConvergenceWarning: Objective did not converge. You might want to increase the number of iterations, check the scale of the features or consider increasing regularisation. Duality gap: 5.383e+02, tolerance: 1.170e-01 Linear regression models with null weight for the l1 regularization term are more efficiently fitted using one of the solvers implemented in sklearn.linear_model.Ridge/RidgeCV instead.\n",
            "  model = cd_fast.enet_coordinate_descent(\n"
          ]
        },
        {
          "output_type": "stream",
          "name": "stdout",
          "text": [
            "Fitting 15 folds for each of 30 candidates, totalling 450 fits\n",
            "Fitting 15 folds for each of 95 candidates, totalling 1425 fits\n",
            "Fitting 15 folds for each of 19 candidates, totalling 285 fits\n"
          ]
        },
        {
          "output_type": "execute_result",
          "data": {
            "text/plain": [
              "               Best score  Train r2   Test r2  Train mae  Test mae\n",
              "SVR             -0.084257  0.318759  0.055174   2.711122  4.535132\n",
              "Elastic Net     -0.060736  0.140415  0.027369   3.413742  4.633306\n",
              "Adaboost        -0.164552  0.921179 -0.072991   1.069634  4.667787\n",
              "Random Forest   -0.099347  0.855585 -0.006636   1.376764  4.760219\n",
              "KNN             -0.080469  0.080718  0.039617   3.453347  4.601899"
            ],
            "text/html": [
              "\n",
              "  <div id=\"df-74049f9b-b182-4795-808a-d37115ba6224\">\n",
              "    <div class=\"colab-df-container\">\n",
              "      <div>\n",
              "<style scoped>\n",
              "    .dataframe tbody tr th:only-of-type {\n",
              "        vertical-align: middle;\n",
              "    }\n",
              "\n",
              "    .dataframe tbody tr th {\n",
              "        vertical-align: top;\n",
              "    }\n",
              "\n",
              "    .dataframe thead th {\n",
              "        text-align: right;\n",
              "    }\n",
              "</style>\n",
              "<table border=\"1\" class=\"dataframe\">\n",
              "  <thead>\n",
              "    <tr style=\"text-align: right;\">\n",
              "      <th></th>\n",
              "      <th>Best score</th>\n",
              "      <th>Train r2</th>\n",
              "      <th>Test r2</th>\n",
              "      <th>Train mae</th>\n",
              "      <th>Test mae</th>\n",
              "    </tr>\n",
              "  </thead>\n",
              "  <tbody>\n",
              "    <tr>\n",
              "      <th>SVR</th>\n",
              "      <td>-0.084257</td>\n",
              "      <td>0.318759</td>\n",
              "      <td>0.055174</td>\n",
              "      <td>2.711122</td>\n",
              "      <td>4.535132</td>\n",
              "    </tr>\n",
              "    <tr>\n",
              "      <th>Elastic Net</th>\n",
              "      <td>-0.060736</td>\n",
              "      <td>0.140415</td>\n",
              "      <td>0.027369</td>\n",
              "      <td>3.413742</td>\n",
              "      <td>4.633306</td>\n",
              "    </tr>\n",
              "    <tr>\n",
              "      <th>Adaboost</th>\n",
              "      <td>-0.164552</td>\n",
              "      <td>0.921179</td>\n",
              "      <td>-0.072991</td>\n",
              "      <td>1.069634</td>\n",
              "      <td>4.667787</td>\n",
              "    </tr>\n",
              "    <tr>\n",
              "      <th>Random Forest</th>\n",
              "      <td>-0.099347</td>\n",
              "      <td>0.855585</td>\n",
              "      <td>-0.006636</td>\n",
              "      <td>1.376764</td>\n",
              "      <td>4.760219</td>\n",
              "    </tr>\n",
              "    <tr>\n",
              "      <th>KNN</th>\n",
              "      <td>-0.080469</td>\n",
              "      <td>0.080718</td>\n",
              "      <td>0.039617</td>\n",
              "      <td>3.453347</td>\n",
              "      <td>4.601899</td>\n",
              "    </tr>\n",
              "  </tbody>\n",
              "</table>\n",
              "</div>\n",
              "      <button class=\"colab-df-convert\" onclick=\"convertToInteractive('df-74049f9b-b182-4795-808a-d37115ba6224')\"\n",
              "              title=\"Convert this dataframe to an interactive table.\"\n",
              "              style=\"display:none;\">\n",
              "        \n",
              "  <svg xmlns=\"http://www.w3.org/2000/svg\" height=\"24px\"viewBox=\"0 0 24 24\"\n",
              "       width=\"24px\">\n",
              "    <path d=\"M0 0h24v24H0V0z\" fill=\"none\"/>\n",
              "    <path d=\"M18.56 5.44l.94 2.06.94-2.06 2.06-.94-2.06-.94-.94-2.06-.94 2.06-2.06.94zm-11 1L8.5 8.5l.94-2.06 2.06-.94-2.06-.94L8.5 2.5l-.94 2.06-2.06.94zm10 10l.94 2.06.94-2.06 2.06-.94-2.06-.94-.94-2.06-.94 2.06-2.06.94z\"/><path d=\"M17.41 7.96l-1.37-1.37c-.4-.4-.92-.59-1.43-.59-.52 0-1.04.2-1.43.59L10.3 9.45l-7.72 7.72c-.78.78-.78 2.05 0 2.83L4 21.41c.39.39.9.59 1.41.59.51 0 1.02-.2 1.41-.59l7.78-7.78 2.81-2.81c.8-.78.8-2.07 0-2.86zM5.41 20L4 18.59l7.72-7.72 1.47 1.35L5.41 20z\"/>\n",
              "  </svg>\n",
              "      </button>\n",
              "      \n",
              "  <style>\n",
              "    .colab-df-container {\n",
              "      display:flex;\n",
              "      flex-wrap:wrap;\n",
              "      gap: 12px;\n",
              "    }\n",
              "\n",
              "    .colab-df-convert {\n",
              "      background-color: #E8F0FE;\n",
              "      border: none;\n",
              "      border-radius: 50%;\n",
              "      cursor: pointer;\n",
              "      display: none;\n",
              "      fill: #1967D2;\n",
              "      height: 32px;\n",
              "      padding: 0 0 0 0;\n",
              "      width: 32px;\n",
              "    }\n",
              "\n",
              "    .colab-df-convert:hover {\n",
              "      background-color: #E2EBFA;\n",
              "      box-shadow: 0px 1px 2px rgba(60, 64, 67, 0.3), 0px 1px 3px 1px rgba(60, 64, 67, 0.15);\n",
              "      fill: #174EA6;\n",
              "    }\n",
              "\n",
              "    [theme=dark] .colab-df-convert {\n",
              "      background-color: #3B4455;\n",
              "      fill: #D2E3FC;\n",
              "    }\n",
              "\n",
              "    [theme=dark] .colab-df-convert:hover {\n",
              "      background-color: #434B5C;\n",
              "      box-shadow: 0px 1px 3px 1px rgba(0, 0, 0, 0.15);\n",
              "      filter: drop-shadow(0px 1px 2px rgba(0, 0, 0, 0.3));\n",
              "      fill: #FFFFFF;\n",
              "    }\n",
              "  </style>\n",
              "\n",
              "      <script>\n",
              "        const buttonEl =\n",
              "          document.querySelector('#df-74049f9b-b182-4795-808a-d37115ba6224 button.colab-df-convert');\n",
              "        buttonEl.style.display =\n",
              "          google.colab.kernel.accessAllowed ? 'block' : 'none';\n",
              "\n",
              "        async function convertToInteractive(key) {\n",
              "          const element = document.querySelector('#df-74049f9b-b182-4795-808a-d37115ba6224');\n",
              "          const dataTable =\n",
              "            await google.colab.kernel.invokeFunction('convertToInteractive',\n",
              "                                                     [key], {});\n",
              "          if (!dataTable) return;\n",
              "\n",
              "          const docLinkHtml = 'Like what you see? Visit the ' +\n",
              "            '<a target=\"_blank\" href=https://colab.research.google.com/notebooks/data_table.ipynb>data table notebook</a>'\n",
              "            + ' to learn more about interactive tables.';\n",
              "          element.innerHTML = '';\n",
              "          dataTable['output_type'] = 'display_data';\n",
              "          await google.colab.output.renderOutput(dataTable, element);\n",
              "          const docLink = document.createElement('div');\n",
              "          docLink.innerHTML = docLinkHtml;\n",
              "          element.appendChild(docLink);\n",
              "        }\n",
              "      </script>\n",
              "    </div>\n",
              "  </div>\n",
              "  "
            ]
          },
          "metadata": {},
          "execution_count": 37
        }
      ]
    },
    {
      "cell_type": "code",
      "source": [
        "#Init DataFrame for Cluster 1\n",
        "cluster_tr = pc_train_scaled.iloc[np.where(pc_train_scaled[\"Cluster\"]==1)]\n",
        "train_cluster = cluster_tr.drop(['Cluster'], axis=1, errors='ignore')\n",
        "y_train_cluster = y_train.iloc[np.where(pc_train_scaled[\"Cluster\"]==1)]\n",
        "\n",
        "cluster_te = pc_test_scaled.iloc[np.where(pc_test_scaled[\"Cluster\"]==1)]\n",
        "test_cluster = cluster_te.drop(['Cluster'], axis=1, errors='ignore')\n",
        "y_test_cluster = y_test.iloc[np.where(pc_test_scaled[\"Cluster\"]==1)]\n",
        "\n",
        "#Create DataFrame for the result\n",
        "df_pca_1 = pd.DataFrame(columns=[\"Best score\", \"Train r2\",  \"Test r2\", \"Train mae\", \"Test mae\"])\n",
        "\n",
        "\n",
        "#Test for each model\n",
        "df_pca_1.loc[\"SVR\"] = svr_model(train_cluster, test_cluster, y_train_cluster, y_test_cluster)\n",
        "df_pca_1.loc[\"Elastic Net\"] = elastic_model(train_cluster, test_cluster, y_train_cluster, y_test_cluster)\n",
        "df_pca_1.loc[\"Adaboost\"] = adaboost_model(train_cluster, test_cluster, y_train_cluster, y_test_cluster)\n",
        "df_pca_1.loc[\"Random Forest\"] = random_forest_model(train_cluster, test_cluster, y_train_cluster, y_test_cluster)\n",
        "df_pca_1.loc[\"KNN\"] = knn_model(train_cluster, test_cluster, y_train_cluster, y_test_cluster)\n",
        "df_pca_1"
      ],
      "metadata": {
        "colab": {
          "base_uri": "https://localhost:8080/",
          "height": 293
        },
        "id": "jgAiVSVyn0FO",
        "outputId": "7c946f5e-1317-4947-98f8-4d117b4bee49"
      },
      "id": "jgAiVSVyn0FO",
      "execution_count": 38,
      "outputs": [
        {
          "output_type": "stream",
          "name": "stdout",
          "text": [
            "Fitting 15 folds for each of 210 candidates, totalling 3150 fits\n",
            "Fitting 15 folds for each of 525 candidates, totalling 7875 fits\n",
            "Fitting 15 folds for each of 30 candidates, totalling 450 fits\n",
            "Fitting 15 folds for each of 95 candidates, totalling 1425 fits\n",
            "Fitting 15 folds for each of 19 candidates, totalling 285 fits\n"
          ]
        },
        {
          "output_type": "execute_result",
          "data": {
            "text/plain": [
              "               Best score  Train r2   Test r2  Train mae  Test mae\n",
              "SVR              0.002757  0.360613  0.083455   2.798699  4.055285\n",
              "Elastic Net     -0.011404  0.159324  0.068628   3.643466  4.130700\n",
              "Adaboost        -0.179807  0.770361 -0.255385   1.686855  4.822327\n",
              "Random Forest   -0.133868  0.287219  0.023696   3.274459  4.209646\n",
              "KNN             -0.051071  0.083906  0.070642   3.795742  4.166958"
            ],
            "text/html": [
              "\n",
              "  <div id=\"df-370ae638-5d73-49a7-98a5-1e5b66249c49\">\n",
              "    <div class=\"colab-df-container\">\n",
              "      <div>\n",
              "<style scoped>\n",
              "    .dataframe tbody tr th:only-of-type {\n",
              "        vertical-align: middle;\n",
              "    }\n",
              "\n",
              "    .dataframe tbody tr th {\n",
              "        vertical-align: top;\n",
              "    }\n",
              "\n",
              "    .dataframe thead th {\n",
              "        text-align: right;\n",
              "    }\n",
              "</style>\n",
              "<table border=\"1\" class=\"dataframe\">\n",
              "  <thead>\n",
              "    <tr style=\"text-align: right;\">\n",
              "      <th></th>\n",
              "      <th>Best score</th>\n",
              "      <th>Train r2</th>\n",
              "      <th>Test r2</th>\n",
              "      <th>Train mae</th>\n",
              "      <th>Test mae</th>\n",
              "    </tr>\n",
              "  </thead>\n",
              "  <tbody>\n",
              "    <tr>\n",
              "      <th>SVR</th>\n",
              "      <td>0.002757</td>\n",
              "      <td>0.360613</td>\n",
              "      <td>0.083455</td>\n",
              "      <td>2.798699</td>\n",
              "      <td>4.055285</td>\n",
              "    </tr>\n",
              "    <tr>\n",
              "      <th>Elastic Net</th>\n",
              "      <td>-0.011404</td>\n",
              "      <td>0.159324</td>\n",
              "      <td>0.068628</td>\n",
              "      <td>3.643466</td>\n",
              "      <td>4.130700</td>\n",
              "    </tr>\n",
              "    <tr>\n",
              "      <th>Adaboost</th>\n",
              "      <td>-0.179807</td>\n",
              "      <td>0.770361</td>\n",
              "      <td>-0.255385</td>\n",
              "      <td>1.686855</td>\n",
              "      <td>4.822327</td>\n",
              "    </tr>\n",
              "    <tr>\n",
              "      <th>Random Forest</th>\n",
              "      <td>-0.133868</td>\n",
              "      <td>0.287219</td>\n",
              "      <td>0.023696</td>\n",
              "      <td>3.274459</td>\n",
              "      <td>4.209646</td>\n",
              "    </tr>\n",
              "    <tr>\n",
              "      <th>KNN</th>\n",
              "      <td>-0.051071</td>\n",
              "      <td>0.083906</td>\n",
              "      <td>0.070642</td>\n",
              "      <td>3.795742</td>\n",
              "      <td>4.166958</td>\n",
              "    </tr>\n",
              "  </tbody>\n",
              "</table>\n",
              "</div>\n",
              "      <button class=\"colab-df-convert\" onclick=\"convertToInteractive('df-370ae638-5d73-49a7-98a5-1e5b66249c49')\"\n",
              "              title=\"Convert this dataframe to an interactive table.\"\n",
              "              style=\"display:none;\">\n",
              "        \n",
              "  <svg xmlns=\"http://www.w3.org/2000/svg\" height=\"24px\"viewBox=\"0 0 24 24\"\n",
              "       width=\"24px\">\n",
              "    <path d=\"M0 0h24v24H0V0z\" fill=\"none\"/>\n",
              "    <path d=\"M18.56 5.44l.94 2.06.94-2.06 2.06-.94-2.06-.94-.94-2.06-.94 2.06-2.06.94zm-11 1L8.5 8.5l.94-2.06 2.06-.94-2.06-.94L8.5 2.5l-.94 2.06-2.06.94zm10 10l.94 2.06.94-2.06 2.06-.94-2.06-.94-.94-2.06-.94 2.06-2.06.94z\"/><path d=\"M17.41 7.96l-1.37-1.37c-.4-.4-.92-.59-1.43-.59-.52 0-1.04.2-1.43.59L10.3 9.45l-7.72 7.72c-.78.78-.78 2.05 0 2.83L4 21.41c.39.39.9.59 1.41.59.51 0 1.02-.2 1.41-.59l7.78-7.78 2.81-2.81c.8-.78.8-2.07 0-2.86zM5.41 20L4 18.59l7.72-7.72 1.47 1.35L5.41 20z\"/>\n",
              "  </svg>\n",
              "      </button>\n",
              "      \n",
              "  <style>\n",
              "    .colab-df-container {\n",
              "      display:flex;\n",
              "      flex-wrap:wrap;\n",
              "      gap: 12px;\n",
              "    }\n",
              "\n",
              "    .colab-df-convert {\n",
              "      background-color: #E8F0FE;\n",
              "      border: none;\n",
              "      border-radius: 50%;\n",
              "      cursor: pointer;\n",
              "      display: none;\n",
              "      fill: #1967D2;\n",
              "      height: 32px;\n",
              "      padding: 0 0 0 0;\n",
              "      width: 32px;\n",
              "    }\n",
              "\n",
              "    .colab-df-convert:hover {\n",
              "      background-color: #E2EBFA;\n",
              "      box-shadow: 0px 1px 2px rgba(60, 64, 67, 0.3), 0px 1px 3px 1px rgba(60, 64, 67, 0.15);\n",
              "      fill: #174EA6;\n",
              "    }\n",
              "\n",
              "    [theme=dark] .colab-df-convert {\n",
              "      background-color: #3B4455;\n",
              "      fill: #D2E3FC;\n",
              "    }\n",
              "\n",
              "    [theme=dark] .colab-df-convert:hover {\n",
              "      background-color: #434B5C;\n",
              "      box-shadow: 0px 1px 3px 1px rgba(0, 0, 0, 0.15);\n",
              "      filter: drop-shadow(0px 1px 2px rgba(0, 0, 0, 0.3));\n",
              "      fill: #FFFFFF;\n",
              "    }\n",
              "  </style>\n",
              "\n",
              "      <script>\n",
              "        const buttonEl =\n",
              "          document.querySelector('#df-370ae638-5d73-49a7-98a5-1e5b66249c49 button.colab-df-convert');\n",
              "        buttonEl.style.display =\n",
              "          google.colab.kernel.accessAllowed ? 'block' : 'none';\n",
              "\n",
              "        async function convertToInteractive(key) {\n",
              "          const element = document.querySelector('#df-370ae638-5d73-49a7-98a5-1e5b66249c49');\n",
              "          const dataTable =\n",
              "            await google.colab.kernel.invokeFunction('convertToInteractive',\n",
              "                                                     [key], {});\n",
              "          if (!dataTable) return;\n",
              "\n",
              "          const docLinkHtml = 'Like what you see? Visit the ' +\n",
              "            '<a target=\"_blank\" href=https://colab.research.google.com/notebooks/data_table.ipynb>data table notebook</a>'\n",
              "            + ' to learn more about interactive tables.';\n",
              "          element.innerHTML = '';\n",
              "          dataTable['output_type'] = 'display_data';\n",
              "          await google.colab.output.renderOutput(dataTable, element);\n",
              "          const docLink = document.createElement('div');\n",
              "          docLink.innerHTML = docLinkHtml;\n",
              "          element.appendChild(docLink);\n",
              "        }\n",
              "      </script>\n",
              "    </div>\n",
              "  </div>\n",
              "  "
            ]
          },
          "metadata": {},
          "execution_count": 38
        }
      ]
    },
    {
      "cell_type": "code",
      "source": [
        "#Init DataFrame for Cluster 2\n",
        "cluster_tr = pc_train_scaled.iloc[np.where(pc_train_scaled[\"Cluster\"]==2)]\n",
        "train_cluster = cluster_tr.drop(['Cluster'], axis=1, errors='ignore')\n",
        "y_train_cluster = y_train.iloc[np.where(pc_train_scaled[\"Cluster\"]==2)]\n",
        "\n",
        "cluster_te = pc_test_scaled.iloc[np.where(pc_test_scaled[\"Cluster\"]==2)]\n",
        "test_cluster = cluster_te.drop(['Cluster'], axis=1, errors='ignore')\n",
        "y_test_cluster = y_test.iloc[np.where(pc_test_scaled[\"Cluster\"]==2)]\n",
        "\n",
        "#Create DataFrame for the result\n",
        "df_pca_2 = pd.DataFrame(columns=[\"Best score\", \"Train r2\",  \"Test r2\", \"Train mae\", \"Test mae\"])\n",
        "\n",
        "\n",
        "#Test for each model\n",
        "df_pca_2.loc[\"SVR\"] = svr_model(train_cluster, test_cluster, y_train_cluster, y_test_cluster)\n",
        "df_pca_2.loc[\"Elastic Net\"] = elastic_model(train_cluster, test_cluster, y_train_cluster, y_test_cluster)\n",
        "df_pca_2.loc[\"Adaboost\"] = adaboost_model(train_cluster, test_cluster, y_train_cluster, y_test_cluster)\n",
        "df_pca_2.loc[\"Random Forest\"] = random_forest_model(train_cluster, test_cluster, y_train_cluster, y_test_cluster)\n",
        "df_pca_2.loc[\"KNN\"] = knn_model(train_cluster, test_cluster, y_train_cluster, y_test_cluster)\n",
        "df_pca_2"
      ],
      "metadata": {
        "colab": {
          "base_uri": "https://localhost:8080/",
          "height": 348
        },
        "id": "E3nVJa1IoGjL",
        "outputId": "a6a1d54d-e39b-41e1-9b6d-c4ae0bedd978"
      },
      "id": "E3nVJa1IoGjL",
      "execution_count": 39,
      "outputs": [
        {
          "output_type": "stream",
          "name": "stdout",
          "text": [
            "Fitting 15 folds for each of 210 candidates, totalling 3150 fits\n",
            "Fitting 15 folds for each of 525 candidates, totalling 7875 fits\n"
          ]
        },
        {
          "output_type": "stream",
          "name": "stderr",
          "text": [
            "/usr/local/lib/python3.8/dist-packages/sklearn/linear_model/_coordinate_descent.py:647: ConvergenceWarning: Objective did not converge. You might want to increase the number of iterations, check the scale of the features or consider increasing regularisation. Duality gap: 6.101e+02, tolerance: 1.351e-01 Linear regression models with null weight for the l1 regularization term are more efficiently fitted using one of the solvers implemented in sklearn.linear_model.Ridge/RidgeCV instead.\n",
            "  model = cd_fast.enet_coordinate_descent(\n"
          ]
        },
        {
          "output_type": "stream",
          "name": "stdout",
          "text": [
            "Fitting 15 folds for each of 30 candidates, totalling 450 fits\n",
            "Fitting 15 folds for each of 95 candidates, totalling 1425 fits\n",
            "Fitting 15 folds for each of 19 candidates, totalling 285 fits\n"
          ]
        },
        {
          "output_type": "execute_result",
          "data": {
            "text/plain": [
              "               Best score  Train r2   Test r2  Train mae  Test mae\n",
              "SVR             -0.086209  0.350637  0.129640   2.854333  3.840499\n",
              "Elastic Net     -0.064390  0.170844  0.102792   3.736782  4.001607\n",
              "Adaboost        -0.120337  0.903124  0.195234   1.296423  3.782042\n",
              "Random Forest   -0.109717  0.853346  0.009246   1.481932  4.246928\n",
              "KNN             -0.076955  0.102283  0.205165   3.883897  3.731508"
            ],
            "text/html": [
              "\n",
              "  <div id=\"df-5757dfd3-5559-4549-8699-4d63ceffa06e\">\n",
              "    <div class=\"colab-df-container\">\n",
              "      <div>\n",
              "<style scoped>\n",
              "    .dataframe tbody tr th:only-of-type {\n",
              "        vertical-align: middle;\n",
              "    }\n",
              "\n",
              "    .dataframe tbody tr th {\n",
              "        vertical-align: top;\n",
              "    }\n",
              "\n",
              "    .dataframe thead th {\n",
              "        text-align: right;\n",
              "    }\n",
              "</style>\n",
              "<table border=\"1\" class=\"dataframe\">\n",
              "  <thead>\n",
              "    <tr style=\"text-align: right;\">\n",
              "      <th></th>\n",
              "      <th>Best score</th>\n",
              "      <th>Train r2</th>\n",
              "      <th>Test r2</th>\n",
              "      <th>Train mae</th>\n",
              "      <th>Test mae</th>\n",
              "    </tr>\n",
              "  </thead>\n",
              "  <tbody>\n",
              "    <tr>\n",
              "      <th>SVR</th>\n",
              "      <td>-0.086209</td>\n",
              "      <td>0.350637</td>\n",
              "      <td>0.129640</td>\n",
              "      <td>2.854333</td>\n",
              "      <td>3.840499</td>\n",
              "    </tr>\n",
              "    <tr>\n",
              "      <th>Elastic Net</th>\n",
              "      <td>-0.064390</td>\n",
              "      <td>0.170844</td>\n",
              "      <td>0.102792</td>\n",
              "      <td>3.736782</td>\n",
              "      <td>4.001607</td>\n",
              "    </tr>\n",
              "    <tr>\n",
              "      <th>Adaboost</th>\n",
              "      <td>-0.120337</td>\n",
              "      <td>0.903124</td>\n",
              "      <td>0.195234</td>\n",
              "      <td>1.296423</td>\n",
              "      <td>3.782042</td>\n",
              "    </tr>\n",
              "    <tr>\n",
              "      <th>Random Forest</th>\n",
              "      <td>-0.109717</td>\n",
              "      <td>0.853346</td>\n",
              "      <td>0.009246</td>\n",
              "      <td>1.481932</td>\n",
              "      <td>4.246928</td>\n",
              "    </tr>\n",
              "    <tr>\n",
              "      <th>KNN</th>\n",
              "      <td>-0.076955</td>\n",
              "      <td>0.102283</td>\n",
              "      <td>0.205165</td>\n",
              "      <td>3.883897</td>\n",
              "      <td>3.731508</td>\n",
              "    </tr>\n",
              "  </tbody>\n",
              "</table>\n",
              "</div>\n",
              "      <button class=\"colab-df-convert\" onclick=\"convertToInteractive('df-5757dfd3-5559-4549-8699-4d63ceffa06e')\"\n",
              "              title=\"Convert this dataframe to an interactive table.\"\n",
              "              style=\"display:none;\">\n",
              "        \n",
              "  <svg xmlns=\"http://www.w3.org/2000/svg\" height=\"24px\"viewBox=\"0 0 24 24\"\n",
              "       width=\"24px\">\n",
              "    <path d=\"M0 0h24v24H0V0z\" fill=\"none\"/>\n",
              "    <path d=\"M18.56 5.44l.94 2.06.94-2.06 2.06-.94-2.06-.94-.94-2.06-.94 2.06-2.06.94zm-11 1L8.5 8.5l.94-2.06 2.06-.94-2.06-.94L8.5 2.5l-.94 2.06-2.06.94zm10 10l.94 2.06.94-2.06 2.06-.94-2.06-.94-.94-2.06-.94 2.06-2.06.94z\"/><path d=\"M17.41 7.96l-1.37-1.37c-.4-.4-.92-.59-1.43-.59-.52 0-1.04.2-1.43.59L10.3 9.45l-7.72 7.72c-.78.78-.78 2.05 0 2.83L4 21.41c.39.39.9.59 1.41.59.51 0 1.02-.2 1.41-.59l7.78-7.78 2.81-2.81c.8-.78.8-2.07 0-2.86zM5.41 20L4 18.59l7.72-7.72 1.47 1.35L5.41 20z\"/>\n",
              "  </svg>\n",
              "      </button>\n",
              "      \n",
              "  <style>\n",
              "    .colab-df-container {\n",
              "      display:flex;\n",
              "      flex-wrap:wrap;\n",
              "      gap: 12px;\n",
              "    }\n",
              "\n",
              "    .colab-df-convert {\n",
              "      background-color: #E8F0FE;\n",
              "      border: none;\n",
              "      border-radius: 50%;\n",
              "      cursor: pointer;\n",
              "      display: none;\n",
              "      fill: #1967D2;\n",
              "      height: 32px;\n",
              "      padding: 0 0 0 0;\n",
              "      width: 32px;\n",
              "    }\n",
              "\n",
              "    .colab-df-convert:hover {\n",
              "      background-color: #E2EBFA;\n",
              "      box-shadow: 0px 1px 2px rgba(60, 64, 67, 0.3), 0px 1px 3px 1px rgba(60, 64, 67, 0.15);\n",
              "      fill: #174EA6;\n",
              "    }\n",
              "\n",
              "    [theme=dark] .colab-df-convert {\n",
              "      background-color: #3B4455;\n",
              "      fill: #D2E3FC;\n",
              "    }\n",
              "\n",
              "    [theme=dark] .colab-df-convert:hover {\n",
              "      background-color: #434B5C;\n",
              "      box-shadow: 0px 1px 3px 1px rgba(0, 0, 0, 0.15);\n",
              "      filter: drop-shadow(0px 1px 2px rgba(0, 0, 0, 0.3));\n",
              "      fill: #FFFFFF;\n",
              "    }\n",
              "  </style>\n",
              "\n",
              "      <script>\n",
              "        const buttonEl =\n",
              "          document.querySelector('#df-5757dfd3-5559-4549-8699-4d63ceffa06e button.colab-df-convert');\n",
              "        buttonEl.style.display =\n",
              "          google.colab.kernel.accessAllowed ? 'block' : 'none';\n",
              "\n",
              "        async function convertToInteractive(key) {\n",
              "          const element = document.querySelector('#df-5757dfd3-5559-4549-8699-4d63ceffa06e');\n",
              "          const dataTable =\n",
              "            await google.colab.kernel.invokeFunction('convertToInteractive',\n",
              "                                                     [key], {});\n",
              "          if (!dataTable) return;\n",
              "\n",
              "          const docLinkHtml = 'Like what you see? Visit the ' +\n",
              "            '<a target=\"_blank\" href=https://colab.research.google.com/notebooks/data_table.ipynb>data table notebook</a>'\n",
              "            + ' to learn more about interactive tables.';\n",
              "          element.innerHTML = '';\n",
              "          dataTable['output_type'] = 'display_data';\n",
              "          await google.colab.output.renderOutput(dataTable, element);\n",
              "          const docLink = document.createElement('div');\n",
              "          docLink.innerHTML = docLinkHtml;\n",
              "          element.appendChild(docLink);\n",
              "        }\n",
              "      </script>\n",
              "    </div>\n",
              "  </div>\n",
              "  "
            ]
          },
          "metadata": {},
          "execution_count": 39
        }
      ]
    },
    {
      "cell_type": "code",
      "source": [],
      "metadata": {
        "id": "69fIn12qwZv7"
      },
      "id": "69fIn12qwZv7",
      "execution_count": null,
      "outputs": []
    }
  ],
  "metadata": {
    "kernelspec": {
      "display_name": "Python 3 (ipykernel)",
      "language": "python",
      "name": "python3"
    },
    "language_info": {
      "codemirror_mode": {
        "name": "ipython",
        "version": 3
      },
      "file_extension": ".py",
      "mimetype": "text/x-python",
      "name": "python",
      "nbconvert_exporter": "python",
      "pygments_lexer": "ipython3",
      "version": "3.9.0"
    },
    "colab": {
      "provenance": []
    }
  },
  "nbformat": 4,
  "nbformat_minor": 5
}